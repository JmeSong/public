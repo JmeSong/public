{
 "cells": [
  {
   "cell_type": "markdown",
   "metadata": {},
   "source": [
    "# 첫번째. R을 이용한 간단한 딥 러닝 예제 (Simple Modeling the Final Energy Predictor by using R Language)\n",
    "<hr/>\n",
    "## 예제 목표:\n",
    "  이번 예제에서는 Materials Scientific Community에 구축되어 있는 Open Quantum Materials Database [[1]](http://dx.doi.org/10.1007/s11837-013-0755-4)[[2]](http://dx.doi.org/10.1038/npjcompumats.2015.10) ([OQMD](http://www.oqmd.org), NorthWestern Univ.)의 DFT 계산 데이터를 활용하여 소재 물성 예측 모델을 간단히 구성한다. 딥 러닝 학습은 Supervised(지도학습) 방식이 사용되며 Regression 을 통해 만들어지는 모델을 활용해 scalar 결과 값을 예측한다. 모델의 성능 검증을 위해 5-Fold Cross Validation(교차검증) 방안을 사용한다. 마지막으로, 만들어진 모델을 저장하여 차후 예측 모델의 서비스에서 활용될 수 있다.\n",
    "\n",
    "### Overview\n",
    "  예제의 딥 러닝 학습은 크게 다음의 4가지 파트로 구성된다.\n",
    "1. 데이터 로딩: 입력 값(Features)과 출력 값(Labels)이 저장된 텍스트 형태의 데이터 파일을 로딩한다.\n",
    "2. 데이터 전처리: 머신 러닝 학습에 적합한 형태로 로딩된 데이터를 변환한다.\n",
    "3. 기계 학습 및 최적 모델 생성: 다양한 파라미터 값을 조정하여 최적의 모델을 찾는다.\n",
    "4. 결과 값 분석: 모델의 객관적 성능 평가 및 원인과 결과를 분석한다. 필요시 위의 과정을 반복한다.\n",
    "<hr/>\n",
    "###### Comments\n",
    "입력 값(input): 본 예제에서는 Features 라는 용어를 사용. 연구자의 성향 및 설명의 용이에 따라 Variables, Descriptors, Importances 로 명시하기도 함.\n",
    "\n",
    "  출력 값(output): 본 예제에서는 Label 이라는 용어를 사용."
   ]
  },
  {
   "cell_type": "markdown",
   "metadata": {},
   "source": [
    "<hr/>\n",
    "## 1. 데이터 로딩\n",
    "  미리 정의된 csv 파일 형태로 저장된 텍스트 데이터를 메모리에 로드한다. 해당 데이터는 Inorganic compounds 의 Formula Information 만으로 구성된 단순한 형태의 데이터이다. 차후의 예제에서 더 많은 종류의 Features를 추가하여 최종 성능에 미치는 영향을 비교한다.\n",
    "  \n",
    "  \n",
    "  학습에 사용되는 1) 입력 값(Features)으로는 Formula information, 이에 상응하는 2) 출력 값(Label)으로는 Final energy/atom이 학습된다. 1차 분석 시 전체 학습 데이터 수에 따른 성능 비교를 위해 먼저 50%의 데이터만 활용한다. 2차 분석에 100%의 데이터를 활용하여 그 차이를 비교한다."
   ]
  },
  {
   "cell_type": "code",
   "execution_count": 1,
   "metadata": {
    "collapsed": true
   },
   "outputs": [],
   "source": [
    "# path setting\n",
    "currentPath = \"./\"\n",
    "dataPath = \"data/\"\n",
    "figPath = \".figures/\"\n",
    "modelPath = \"models/\"\n",
    "\n",
    "dataPath <- paste(currentPath, dataPath, sep=\"\")\n",
    "figPath <- paste(currentPath, figPath, sep=\"\")"
   ]
  },
  {
   "cell_type": "code",
   "execution_count": 2,
   "metadata": {},
   "outputs": [
    {
     "name": "stderr",
     "output_type": "stream",
     "text": [
      "The following object is masked from package:base:\n",
      "\n",
      "    F\n",
      "\n"
     ]
    }
   ],
   "source": [
    "# 전체 data 중 training에 80%, testing에 20%에 사용.\n",
    "seperatingRate = 0.8\n",
    "# 학습 데이터량에 따른 성능 비교를 위해 먼저 50%의 데이터만 사용.\n",
    "maxSizeRate = 0.5\n",
    "\n",
    "# 변수 초기화 후 데이터 로딩\n",
    "fileName = \"oqmd-simple.csv\"\n",
    "all_data = 0\n",
    "all_data = read.csv(paste(dataPath,fileName, sep=\"\"), sep=\",\", header=TRUE)\n",
    "attach(all_data)"
   ]
  },
  {
   "cell_type": "code",
   "execution_count": 3,
   "metadata": {
    "scrolled": true
   },
   "outputs": [
    {
     "data": {
      "text/html": [
       "<table>\n",
       "<thead><tr><th scope=col>finalenergyperatom</th><th scope=col>Ac</th><th scope=col>Ag</th><th scope=col>Al</th><th scope=col>Ar</th><th scope=col>As</th><th scope=col>Au</th><th scope=col>B</th><th scope=col>Ba</th><th scope=col>Be</th><th scope=col>⋯</th><th scope=col>Tl</th><th scope=col>Tm</th><th scope=col>U</th><th scope=col>V</th><th scope=col>W</th><th scope=col>Xe</th><th scope=col>Y</th><th scope=col>Yb</th><th scope=col>Zn</th><th scope=col>Zr</th></tr></thead>\n",
       "<tbody>\n",
       "\t<tr><td> -4.468631</td><td>NA        </td><td>NA        </td><td>NA        </td><td>NA        </td><td>NA        </td><td>NA        </td><td>NA        </td><td>NA        </td><td>NA        </td><td>⋯         </td><td>NA        </td><td> 3        </td><td>NA        </td><td>NA        </td><td>NA        </td><td>NA        </td><td>NA        </td><td>NA        </td><td>NA        </td><td>NA        </td></tr>\n",
       "\t<tr><td> -4.511592</td><td>NA        </td><td>NA        </td><td>NA        </td><td>NA        </td><td>NA        </td><td>NA        </td><td>NA        </td><td>NA        </td><td>NA        </td><td>⋯         </td><td>NA        </td><td>NA        </td><td>NA        </td><td>NA        </td><td>NA        </td><td>NA        </td><td>NA        </td><td>NA        </td><td>NA        </td><td>NA        </td></tr>\n",
       "\t<tr><td> -0.029181</td><td>NA        </td><td>NA        </td><td>NA        </td><td>NA        </td><td>NA        </td><td>NA        </td><td>NA        </td><td>NA        </td><td>NA        </td><td>⋯         </td><td>NA        </td><td>NA        </td><td>NA        </td><td>NA        </td><td>NA        </td><td>NA        </td><td>NA        </td><td>NA        </td><td>NA        </td><td>NA        </td></tr>\n",
       "\t<tr><td> -4.804203</td><td>NA        </td><td>NA        </td><td>NA        </td><td>NA        </td><td>NA        </td><td>NA        </td><td>NA        </td><td>NA        </td><td>NA        </td><td>⋯         </td><td>NA        </td><td>NA        </td><td>NA        </td><td>NA        </td><td>NA        </td><td>NA        </td><td>NA        </td><td>NA        </td><td>NA        </td><td>NA        </td></tr>\n",
       "\t<tr><td> -4.648720</td><td>NA        </td><td>NA        </td><td>NA        </td><td>NA        </td><td>NA        </td><td>NA        </td><td>NA        </td><td>NA        </td><td>NA        </td><td>⋯         </td><td>NA        </td><td>NA        </td><td>NA        </td><td>NA        </td><td>NA        </td><td>NA        </td><td>NA        </td><td>NA        </td><td>NA        </td><td>NA        </td></tr>\n",
       "\t<tr><td> -0.001324</td><td>NA        </td><td>NA        </td><td>NA        </td><td>NA        </td><td>NA        </td><td>NA        </td><td>NA        </td><td>NA        </td><td>NA        </td><td>⋯         </td><td>NA        </td><td>NA        </td><td>NA        </td><td>NA        </td><td>NA        </td><td>NA        </td><td>NA        </td><td>NA        </td><td>NA        </td><td>NA        </td></tr>\n",
       "\t<tr><td> -8.682485</td><td>NA        </td><td>NA        </td><td>NA        </td><td>NA        </td><td>NA        </td><td>NA        </td><td>NA        </td><td>NA        </td><td>NA        </td><td>⋯         </td><td>NA        </td><td>NA        </td><td>NA        </td><td> 1        </td><td>NA        </td><td>NA        </td><td>NA        </td><td>NA        </td><td>NA        </td><td>NA        </td></tr>\n",
       "\t<tr><td> -0.962353</td><td>NA        </td><td>NA        </td><td>NA        </td><td>NA        </td><td>NA        </td><td>NA        </td><td>NA        </td><td>NA        </td><td>NA        </td><td>⋯         </td><td>NA        </td><td>NA        </td><td>NA        </td><td>NA        </td><td>NA        </td><td>NA        </td><td>NA        </td><td>NA        </td><td>NA        </td><td>NA        </td></tr>\n",
       "\t<tr><td>-11.610272</td><td>NA        </td><td>NA        </td><td>NA        </td><td>NA        </td><td>NA        </td><td>NA        </td><td>NA        </td><td>NA        </td><td>NA        </td><td>⋯         </td><td>NA        </td><td>NA        </td><td>NA        </td><td>NA        </td><td>NA        </td><td>NA        </td><td>NA        </td><td>NA        </td><td>NA        </td><td>NA        </td></tr>\n",
       "\t<tr><td> -8.940979</td><td>NA        </td><td>NA        </td><td>NA        </td><td>NA        </td><td>NA        </td><td>NA        </td><td>NA        </td><td>NA        </td><td>NA        </td><td>⋯         </td><td>NA        </td><td>NA        </td><td>NA        </td><td> 1        </td><td>NA        </td><td>NA        </td><td>NA        </td><td>NA        </td><td>NA        </td><td>NA        </td></tr>\n",
       "\t<tr><td> -0.029318</td><td>NA        </td><td>NA        </td><td>NA        </td><td>NA        </td><td>NA        </td><td>NA        </td><td>NA        </td><td>NA        </td><td>NA        </td><td>⋯         </td><td>NA        </td><td>NA        </td><td>NA        </td><td>NA        </td><td>NA        </td><td>NA        </td><td>NA        </td><td>NA        </td><td>NA        </td><td>NA        </td></tr>\n",
       "\t<tr><td> -3.744951</td><td>NA        </td><td>NA        </td><td> 1        </td><td>NA        </td><td>NA        </td><td>NA        </td><td>NA        </td><td>NA        </td><td>NA        </td><td>⋯         </td><td>NA        </td><td>NA        </td><td>NA        </td><td>NA        </td><td>NA        </td><td>NA        </td><td>NA        </td><td>NA        </td><td>NA        </td><td>NA        </td></tr>\n",
       "\t<tr><td>  0.177302</td><td>NA        </td><td>NA        </td><td>NA        </td><td>NA        </td><td>NA        </td><td>NA        </td><td>NA        </td><td>NA        </td><td>NA        </td><td>⋯         </td><td>NA        </td><td>NA        </td><td>NA        </td><td>NA        </td><td>NA        </td><td>NA        </td><td>NA        </td><td>NA        </td><td>NA        </td><td>NA        </td></tr>\n",
       "\t<tr><td> -1.096390</td><td>NA        </td><td>NA        </td><td>NA        </td><td>NA        </td><td>NA        </td><td>NA        </td><td>NA        </td><td>NA        </td><td>NA        </td><td>⋯         </td><td>NA        </td><td>NA        </td><td>NA        </td><td>NA        </td><td>NA        </td><td>NA        </td><td>NA        </td><td>NA        </td><td>NA        </td><td>NA        </td></tr>\n",
       "\t<tr><td> -7.269405</td><td>NA        </td><td>NA        </td><td>NA        </td><td>NA        </td><td>NA        </td><td>NA        </td><td>NA        </td><td>NA        </td><td>NA        </td><td>⋯         </td><td>NA        </td><td>NA        </td><td>NA        </td><td>NA        </td><td>NA        </td><td>NA        </td><td>NA        </td><td>NA        </td><td>NA        </td><td>NA        </td></tr>\n",
       "\t<tr><td> -4.421936</td><td>NA        </td><td>NA        </td><td>NA        </td><td>NA        </td><td>NA        </td><td>NA        </td><td>NA        </td><td>NA        </td><td>NA        </td><td>⋯         </td><td>NA        </td><td>NA        </td><td>NA        </td><td>NA        </td><td>NA        </td><td>NA        </td><td>NA        </td><td>NA        </td><td>NA        </td><td>NA        </td></tr>\n",
       "\t<tr><td> -8.467541</td><td>NA        </td><td>NA        </td><td>NA        </td><td>NA        </td><td>NA        </td><td>NA        </td><td>NA        </td><td>NA        </td><td>NA        </td><td>⋯         </td><td>NA        </td><td>NA        </td><td>NA        </td><td>NA        </td><td>NA        </td><td>NA        </td><td>NA        </td><td>NA        </td><td>NA        </td><td> 1        </td></tr>\n",
       "\t<tr><td> -4.433922</td><td>NA        </td><td>NA        </td><td>NA        </td><td>NA        </td><td>NA        </td><td>NA        </td><td>NA        </td><td>NA        </td><td>NA        </td><td>⋯         </td><td>NA        </td><td>NA        </td><td>NA        </td><td>NA        </td><td>NA        </td><td>NA        </td><td>NA        </td><td>NA        </td><td>NA        </td><td>NA        </td></tr>\n",
       "\t<tr><td> -4.385238</td><td>NA        </td><td>NA        </td><td>NA        </td><td>NA        </td><td>NA        </td><td>NA        </td><td>NA        </td><td>NA        </td><td>NA        </td><td>⋯         </td><td>NA        </td><td>NA        </td><td>NA        </td><td>NA        </td><td>NA        </td><td>NA        </td><td>NA        </td><td>NA        </td><td>NA        </td><td>NA        </td></tr>\n",
       "\t<tr><td> -4.484494</td><td>NA        </td><td>NA        </td><td>NA        </td><td>NA        </td><td>NA        </td><td>NA        </td><td>NA        </td><td>NA        </td><td>NA        </td><td>⋯         </td><td>NA        </td><td>NA        </td><td>NA        </td><td>NA        </td><td>NA        </td><td>NA        </td><td>NA        </td><td>NA        </td><td>NA        </td><td>NA        </td></tr>\n",
       "\t<tr><td>  0.279827</td><td>NA        </td><td>NA        </td><td>NA        </td><td>NA        </td><td>NA        </td><td>NA        </td><td>NA        </td><td>NA        </td><td>NA        </td><td>⋯         </td><td>NA        </td><td>NA        </td><td>NA        </td><td>NA        </td><td>NA        </td><td>NA        </td><td>NA        </td><td>NA        </td><td>NA        </td><td>NA        </td></tr>\n",
       "\t<tr><td> -5.272580</td><td>NA        </td><td>NA        </td><td>NA        </td><td>NA        </td><td>NA        </td><td>NA        </td><td>NA        </td><td>NA        </td><td>NA        </td><td>⋯         </td><td>NA        </td><td>NA        </td><td>NA        </td><td>NA        </td><td>NA        </td><td>NA        </td><td>NA        </td><td>NA        </td><td>NA        </td><td>NA        </td></tr>\n",
       "\t<tr><td> -9.091237</td><td>NA        </td><td>NA        </td><td>NA        </td><td>NA        </td><td>NA        </td><td>NA        </td><td>NA        </td><td>NA        </td><td>NA        </td><td>⋯         </td><td>NA        </td><td>NA        </td><td>NA        </td><td>NA        </td><td>NA        </td><td>NA        </td><td>NA        </td><td>NA        </td><td>NA        </td><td>NA        </td></tr>\n",
       "\t<tr><td> -8.854920</td><td>NA        </td><td>NA        </td><td>NA        </td><td>NA        </td><td>NA        </td><td>NA        </td><td>NA        </td><td>NA        </td><td>NA        </td><td>⋯         </td><td>NA        </td><td>NA        </td><td>NA        </td><td>NA        </td><td>NA        </td><td>NA        </td><td>NA        </td><td>NA        </td><td>NA        </td><td>NA        </td></tr>\n",
       "\t<tr><td> -4.508987</td><td>NA        </td><td>NA        </td><td>NA        </td><td>NA        </td><td>NA        </td><td>NA        </td><td>NA        </td><td>NA        </td><td>NA        </td><td>⋯         </td><td>NA        </td><td>NA        </td><td>NA        </td><td>NA        </td><td>NA        </td><td>NA        </td><td>NA        </td><td>NA        </td><td>NA        </td><td>NA        </td></tr>\n",
       "\t<tr><td> -8.307543</td><td>NA        </td><td>NA        </td><td>NA        </td><td>NA        </td><td>NA        </td><td>NA        </td><td>NA        </td><td>NA        </td><td>NA        </td><td>⋯         </td><td>NA        </td><td>NA        </td><td>NA        </td><td>NA        </td><td>NA        </td><td>NA        </td><td>NA        </td><td>NA        </td><td>NA        </td><td>NA        </td></tr>\n",
       "\t<tr><td> -5.475822</td><td>NA        </td><td>NA        </td><td>NA        </td><td>NA        </td><td>NA        </td><td>NA        </td><td>NA        </td><td>NA        </td><td>NA        </td><td>⋯         </td><td>NA        </td><td>NA        </td><td>NA        </td><td>NA        </td><td>NA        </td><td>NA        </td><td>NA        </td><td>NA        </td><td>NA        </td><td>NA        </td></tr>\n",
       "\t<tr><td> -8.146446</td><td>NA        </td><td>NA        </td><td>NA        </td><td>NA        </td><td>NA        </td><td>NA        </td><td>NA        </td><td>NA        </td><td>NA        </td><td>⋯         </td><td>NA        </td><td>NA        </td><td>NA        </td><td>NA        </td><td>NA        </td><td>NA        </td><td>NA        </td><td>NA        </td><td>NA        </td><td>NA        </td></tr>\n",
       "\t<tr><td>-10.292219</td><td>NA        </td><td>NA        </td><td>NA        </td><td>NA        </td><td>NA        </td><td>NA        </td><td>NA        </td><td>NA        </td><td>NA        </td><td>⋯         </td><td>NA        </td><td>NA        </td><td>NA        </td><td>NA        </td><td>NA        </td><td>NA        </td><td>NA        </td><td>NA        </td><td>NA        </td><td>NA        </td></tr>\n",
       "\t<tr><td>-12.360771</td><td>NA        </td><td>NA        </td><td>NA        </td><td>NA        </td><td>NA        </td><td>NA        </td><td>NA        </td><td>NA        </td><td>NA        </td><td>⋯         </td><td>NA        </td><td>NA        </td><td>NA        </td><td>NA        </td><td>NA        </td><td>NA        </td><td>NA        </td><td>NA        </td><td>NA        </td><td>NA        </td></tr>\n",
       "\t<tr><td>⋮</td><td>⋮</td><td>⋮</td><td>⋮</td><td>⋮</td><td>⋮</td><td>⋮</td><td>⋮</td><td>⋮</td><td>⋮</td><td>⋱</td><td>⋮</td><td>⋮</td><td>⋮</td><td>⋮</td><td>⋮</td><td>⋮</td><td>⋮</td><td>⋮</td><td>⋮</td><td>⋮</td></tr>\n",
       "\t<tr><td>-6.492990</td><td>NA       </td><td>NA       </td><td>NA       </td><td>NA       </td><td> 1       </td><td>NA       </td><td>NA       </td><td>NA       </td><td>NA       </td><td>⋯        </td><td>NA       </td><td>NA       </td><td>NA       </td><td>NA       </td><td>NA       </td><td>NA       </td><td>NA       </td><td>NA       </td><td>NA       </td><td>NA       </td></tr>\n",
       "\t<tr><td>-2.227562</td><td>NA       </td><td>NA       </td><td>NA       </td><td>NA       </td><td>NA       </td><td>NA       </td><td>NA       </td><td>NA       </td><td>NA       </td><td>⋯        </td><td>NA       </td><td>NA       </td><td>NA       </td><td>NA       </td><td>NA       </td><td>NA       </td><td>NA       </td><td>NA       </td><td>NA       </td><td>NA       </td></tr>\n",
       "\t<tr><td>-2.457848</td><td>NA       </td><td>NA       </td><td>NA       </td><td>NA       </td><td>NA       </td><td>NA       </td><td>NA       </td><td>NA       </td><td>NA       </td><td>⋯        </td><td>NA       </td><td>NA       </td><td>NA       </td><td>NA       </td><td>NA       </td><td>NA       </td><td>NA       </td><td>NA       </td><td> 1       </td><td>NA       </td></tr>\n",
       "\t<tr><td>-5.750804</td><td>NA       </td><td>NA       </td><td>NA       </td><td>NA       </td><td>NA       </td><td>NA       </td><td>NA       </td><td>NA       </td><td>NA       </td><td>⋯        </td><td>NA       </td><td>NA       </td><td>NA       </td><td>NA       </td><td>NA       </td><td>NA       </td><td>NA       </td><td>NA       </td><td>NA       </td><td>NA       </td></tr>\n",
       "\t<tr><td>-6.443277</td><td>NA       </td><td>NA       </td><td>NA       </td><td>NA       </td><td>NA       </td><td>NA       </td><td>NA       </td><td>NA       </td><td>NA       </td><td>⋯        </td><td>NA       </td><td>NA       </td><td>NA       </td><td>NA       </td><td>NA       </td><td>NA       </td><td>NA       </td><td>NA       </td><td>NA       </td><td>NA       </td></tr>\n",
       "\t<tr><td>-3.993795</td><td>NA       </td><td>NA       </td><td>NA       </td><td>NA       </td><td>NA       </td><td>NA       </td><td>NA       </td><td> 1       </td><td>NA       </td><td>⋯        </td><td>NA       </td><td>NA       </td><td>NA       </td><td>NA       </td><td>NA       </td><td>NA       </td><td>NA       </td><td>NA       </td><td>NA       </td><td>NA       </td></tr>\n",
       "\t<tr><td>-4.134215</td><td>NA       </td><td>NA       </td><td>NA       </td><td>NA       </td><td>NA       </td><td>NA       </td><td>NA       </td><td>NA       </td><td>NA       </td><td>⋯        </td><td>NA       </td><td>NA       </td><td>NA       </td><td>NA       </td><td>NA       </td><td>NA       </td><td>NA       </td><td>NA       </td><td>NA       </td><td>NA       </td></tr>\n",
       "\t<tr><td>-7.409354</td><td>NA       </td><td>NA       </td><td>NA       </td><td>NA       </td><td>NA       </td><td>NA       </td><td>NA       </td><td>NA       </td><td>NA       </td><td>⋯        </td><td>NA       </td><td>NA       </td><td>NA       </td><td>NA       </td><td>NA       </td><td>NA       </td><td>NA       </td><td>NA       </td><td>NA       </td><td>NA       </td></tr>\n",
       "\t<tr><td>-6.566523</td><td>NA       </td><td>NA       </td><td>NA       </td><td>NA       </td><td>NA       </td><td>NA       </td><td>NA       </td><td>NA       </td><td>NA       </td><td>⋯        </td><td>NA       </td><td>NA       </td><td>NA       </td><td>NA       </td><td>NA       </td><td>NA       </td><td>NA       </td><td>NA       </td><td>NA       </td><td>NA       </td></tr>\n",
       "\t<tr><td>-3.075370</td><td>NA       </td><td>NA       </td><td>NA       </td><td>NA       </td><td>NA       </td><td>NA       </td><td>NA       </td><td>NA       </td><td>NA       </td><td>⋯        </td><td>NA       </td><td>NA       </td><td>NA       </td><td>NA       </td><td>NA       </td><td>NA       </td><td>NA       </td><td>NA       </td><td>NA       </td><td>NA       </td></tr>\n",
       "\t<tr><td>-5.520184</td><td>NA       </td><td>NA       </td><td>NA       </td><td>NA       </td><td>NA       </td><td>NA       </td><td>NA       </td><td>NA       </td><td>NA       </td><td>⋯        </td><td>NA       </td><td>NA       </td><td>NA       </td><td>NA       </td><td>NA       </td><td>NA       </td><td>NA       </td><td>NA       </td><td>NA       </td><td>NA       </td></tr>\n",
       "\t<tr><td>-8.449882</td><td>NA       </td><td>NA       </td><td>NA       </td><td>NA       </td><td>NA       </td><td>NA       </td><td>NA       </td><td>NA       </td><td>NA       </td><td>⋯        </td><td>NA       </td><td>NA       </td><td>NA       </td><td>NA       </td><td>NA       </td><td>NA       </td><td>NA       </td><td>NA       </td><td>NA       </td><td>NA       </td></tr>\n",
       "\t<tr><td>-5.663167</td><td>NA       </td><td>NA       </td><td>NA       </td><td>NA       </td><td>NA       </td><td>NA       </td><td>NA       </td><td>NA       </td><td>NA       </td><td>⋯        </td><td>NA       </td><td>NA       </td><td>NA       </td><td>NA       </td><td> 1       </td><td>NA       </td><td>NA       </td><td>NA       </td><td>NA       </td><td>NA       </td></tr>\n",
       "\t<tr><td>-9.237009</td><td>NA       </td><td>NA       </td><td>NA       </td><td>NA       </td><td>NA       </td><td>NA       </td><td>NA       </td><td>NA       </td><td>NA       </td><td>⋯        </td><td>NA       </td><td>NA       </td><td>NA       </td><td>NA       </td><td>NA       </td><td>NA       </td><td>NA       </td><td>NA       </td><td>NA       </td><td>NA       </td></tr>\n",
       "\t<tr><td>-6.141537</td><td>NA       </td><td>NA       </td><td>NA       </td><td>NA       </td><td>NA       </td><td>NA       </td><td>NA       </td><td>NA       </td><td>NA       </td><td>⋯        </td><td>NA       </td><td>NA       </td><td>NA       </td><td>NA       </td><td>NA       </td><td>NA       </td><td>NA       </td><td>NA       </td><td>NA       </td><td>NA       </td></tr>\n",
       "\t<tr><td>-9.590631</td><td>NA       </td><td>NA       </td><td>NA       </td><td>NA       </td><td>NA       </td><td>NA       </td><td>NA       </td><td>NA       </td><td>NA       </td><td>⋯        </td><td>NA       </td><td>NA       </td><td>NA       </td><td>NA       </td><td>NA       </td><td>NA       </td><td>NA       </td><td>NA       </td><td>NA       </td><td>NA       </td></tr>\n",
       "\t<tr><td>-3.968829</td><td>NA       </td><td>NA       </td><td>NA       </td><td>NA       </td><td>NA       </td><td>NA       </td><td>NA       </td><td>NA       </td><td>NA       </td><td>⋯        </td><td>NA       </td><td>NA       </td><td>NA       </td><td>NA       </td><td>NA       </td><td>NA       </td><td>NA       </td><td>NA       </td><td>NA       </td><td>NA       </td></tr>\n",
       "\t<tr><td>-5.692688</td><td>NA       </td><td>NA       </td><td>NA       </td><td>NA       </td><td> 1       </td><td>NA       </td><td>NA       </td><td>NA       </td><td>NA       </td><td>⋯        </td><td>NA       </td><td>NA       </td><td>NA       </td><td>NA       </td><td>NA       </td><td>NA       </td><td>NA       </td><td>NA       </td><td>NA       </td><td>NA       </td></tr>\n",
       "\t<tr><td>-5.275879</td><td>NA       </td><td>NA       </td><td>NA       </td><td>NA       </td><td>NA       </td><td> 1       </td><td>NA       </td><td>NA       </td><td>NA       </td><td>⋯        </td><td>NA       </td><td>NA       </td><td>NA       </td><td>NA       </td><td>NA       </td><td>NA       </td><td>NA       </td><td>NA       </td><td>NA       </td><td>NA       </td></tr>\n",
       "\t<tr><td>-6.060414</td><td>NA       </td><td>NA       </td><td>NA       </td><td>NA       </td><td>NA       </td><td>NA       </td><td>NA       </td><td>NA       </td><td>NA       </td><td>⋯        </td><td>NA       </td><td>NA       </td><td>NA       </td><td>NA       </td><td>NA       </td><td>NA       </td><td>NA       </td><td>NA       </td><td>NA       </td><td>NA       </td></tr>\n",
       "\t<tr><td>-5.467657</td><td>NA       </td><td>NA       </td><td>NA       </td><td>NA       </td><td>NA       </td><td>NA       </td><td>NA       </td><td>NA       </td><td> 1       </td><td>⋯        </td><td>NA       </td><td>NA       </td><td>NA       </td><td>NA       </td><td>NA       </td><td>NA       </td><td>NA       </td><td>NA       </td><td>NA       </td><td>NA       </td></tr>\n",
       "\t<tr><td>-5.528911</td><td>NA       </td><td>NA       </td><td>NA       </td><td>NA       </td><td>NA       </td><td>NA       </td><td>NA       </td><td> 1       </td><td>NA       </td><td>⋯        </td><td>NA       </td><td>NA       </td><td>NA       </td><td>NA       </td><td>NA       </td><td>NA       </td><td>NA       </td><td>NA       </td><td>NA       </td><td>NA       </td></tr>\n",
       "\t<tr><td>-3.756101</td><td>NA       </td><td>NA       </td><td>NA       </td><td>NA       </td><td>NA       </td><td>NA       </td><td>NA       </td><td>NA       </td><td>NA       </td><td>⋯        </td><td>NA       </td><td>NA       </td><td>NA       </td><td>NA       </td><td>NA       </td><td>NA       </td><td>NA       </td><td>NA       </td><td>NA       </td><td>NA       </td></tr>\n",
       "\t<tr><td>-5.796847</td><td> 1       </td><td>NA       </td><td>NA       </td><td>NA       </td><td>NA       </td><td>NA       </td><td>NA       </td><td>NA       </td><td>NA       </td><td>⋯        </td><td>NA       </td><td>NA       </td><td>NA       </td><td>NA       </td><td>NA       </td><td>NA       </td><td>NA       </td><td>NA       </td><td>NA       </td><td>NA       </td></tr>\n",
       "\t<tr><td>-5.606056</td><td>NA       </td><td>NA       </td><td>NA       </td><td>NA       </td><td>NA       </td><td> 1       </td><td>NA       </td><td>NA       </td><td>NA       </td><td>⋯        </td><td>NA       </td><td>NA       </td><td>NA       </td><td>NA       </td><td>NA       </td><td>NA       </td><td>NA       </td><td>NA       </td><td>NA       </td><td>NA       </td></tr>\n",
       "\t<tr><td>-5.123637</td><td>NA       </td><td>NA       </td><td>NA       </td><td>NA       </td><td>NA       </td><td>NA       </td><td>NA       </td><td>NA       </td><td>NA       </td><td>⋯        </td><td>NA       </td><td>NA       </td><td>NA       </td><td>NA       </td><td>NA       </td><td>NA       </td><td>NA       </td><td>NA       </td><td>NA       </td><td>NA       </td></tr>\n",
       "\t<tr><td>-5.125730</td><td> 1       </td><td>NA       </td><td>NA       </td><td>NA       </td><td>NA       </td><td>NA       </td><td>NA       </td><td>NA       </td><td>NA       </td><td>⋯        </td><td>NA       </td><td>NA       </td><td>NA       </td><td>NA       </td><td>NA       </td><td>NA       </td><td>NA       </td><td>NA       </td><td>NA       </td><td>NA       </td></tr>\n",
       "\t<tr><td>-6.385087</td><td>NA       </td><td>NA       </td><td>NA       </td><td>NA       </td><td>NA       </td><td>NA       </td><td>NA       </td><td>NA       </td><td>NA       </td><td>⋯        </td><td>NA       </td><td>NA       </td><td>NA       </td><td>NA       </td><td>NA       </td><td>NA       </td><td>NA       </td><td>NA       </td><td>NA       </td><td>NA       </td></tr>\n",
       "\t<tr><td>-6.606151</td><td>NA       </td><td>NA       </td><td>NA       </td><td>NA       </td><td>NA       </td><td>NA       </td><td>NA       </td><td>NA       </td><td>NA       </td><td>⋯        </td><td>NA       </td><td>NA       </td><td>NA       </td><td>NA       </td><td>NA       </td><td>NA       </td><td>NA       </td><td>NA       </td><td>NA       </td><td>NA       </td></tr>\n",
       "\t<tr><td>-3.860058</td><td>NA       </td><td>NA       </td><td>NA       </td><td>NA       </td><td>NA       </td><td>NA       </td><td>NA       </td><td>NA       </td><td> 1       </td><td>⋯        </td><td>NA       </td><td>NA       </td><td>NA       </td><td>NA       </td><td>NA       </td><td>NA       </td><td>NA       </td><td>NA       </td><td>NA       </td><td>NA       </td></tr>\n",
       "</tbody>\n",
       "</table>\n"
      ],
      "text/latex": [
       "\\begin{tabular}{r|llllllllllllllllllllllllllllllllllllllllllllllllllllllllllllllllllllllllllllllllllllllllll}\n",
       " finalenergyperatom & Ac & Ag & Al & Ar & As & Au & B & Ba & Be & ⋯ & Tl & Tm & U & V & W & Xe & Y & Yb & Zn & Zr\\\\\n",
       "\\hline\n",
       "\t  -4.468631 & NA         & NA         & NA         & NA         & NA         & NA         & NA         & NA         & NA         & ⋯          & NA         &  3         & NA         & NA         & NA         & NA         & NA         & NA         & NA         & NA        \\\\\n",
       "\t  -4.511592 & NA         & NA         & NA         & NA         & NA         & NA         & NA         & NA         & NA         & ⋯          & NA         & NA         & NA         & NA         & NA         & NA         & NA         & NA         & NA         & NA        \\\\\n",
       "\t  -0.029181 & NA         & NA         & NA         & NA         & NA         & NA         & NA         & NA         & NA         & ⋯          & NA         & NA         & NA         & NA         & NA         & NA         & NA         & NA         & NA         & NA        \\\\\n",
       "\t  -4.804203 & NA         & NA         & NA         & NA         & NA         & NA         & NA         & NA         & NA         & ⋯          & NA         & NA         & NA         & NA         & NA         & NA         & NA         & NA         & NA         & NA        \\\\\n",
       "\t  -4.648720 & NA         & NA         & NA         & NA         & NA         & NA         & NA         & NA         & NA         & ⋯          & NA         & NA         & NA         & NA         & NA         & NA         & NA         & NA         & NA         & NA        \\\\\n",
       "\t  -0.001324 & NA         & NA         & NA         & NA         & NA         & NA         & NA         & NA         & NA         & ⋯          & NA         & NA         & NA         & NA         & NA         & NA         & NA         & NA         & NA         & NA        \\\\\n",
       "\t  -8.682485 & NA         & NA         & NA         & NA         & NA         & NA         & NA         & NA         & NA         & ⋯          & NA         & NA         & NA         &  1         & NA         & NA         & NA         & NA         & NA         & NA        \\\\\n",
       "\t  -0.962353 & NA         & NA         & NA         & NA         & NA         & NA         & NA         & NA         & NA         & ⋯          & NA         & NA         & NA         & NA         & NA         & NA         & NA         & NA         & NA         & NA        \\\\\n",
       "\t -11.610272 & NA         & NA         & NA         & NA         & NA         & NA         & NA         & NA         & NA         & ⋯          & NA         & NA         & NA         & NA         & NA         & NA         & NA         & NA         & NA         & NA        \\\\\n",
       "\t  -8.940979 & NA         & NA         & NA         & NA         & NA         & NA         & NA         & NA         & NA         & ⋯          & NA         & NA         & NA         &  1         & NA         & NA         & NA         & NA         & NA         & NA        \\\\\n",
       "\t  -0.029318 & NA         & NA         & NA         & NA         & NA         & NA         & NA         & NA         & NA         & ⋯          & NA         & NA         & NA         & NA         & NA         & NA         & NA         & NA         & NA         & NA        \\\\\n",
       "\t  -3.744951 & NA         & NA         &  1         & NA         & NA         & NA         & NA         & NA         & NA         & ⋯          & NA         & NA         & NA         & NA         & NA         & NA         & NA         & NA         & NA         & NA        \\\\\n",
       "\t   0.177302 & NA         & NA         & NA         & NA         & NA         & NA         & NA         & NA         & NA         & ⋯          & NA         & NA         & NA         & NA         & NA         & NA         & NA         & NA         & NA         & NA        \\\\\n",
       "\t  -1.096390 & NA         & NA         & NA         & NA         & NA         & NA         & NA         & NA         & NA         & ⋯          & NA         & NA         & NA         & NA         & NA         & NA         & NA         & NA         & NA         & NA        \\\\\n",
       "\t  -7.269405 & NA         & NA         & NA         & NA         & NA         & NA         & NA         & NA         & NA         & ⋯          & NA         & NA         & NA         & NA         & NA         & NA         & NA         & NA         & NA         & NA        \\\\\n",
       "\t  -4.421936 & NA         & NA         & NA         & NA         & NA         & NA         & NA         & NA         & NA         & ⋯          & NA         & NA         & NA         & NA         & NA         & NA         & NA         & NA         & NA         & NA        \\\\\n",
       "\t  -8.467541 & NA         & NA         & NA         & NA         & NA         & NA         & NA         & NA         & NA         & ⋯          & NA         & NA         & NA         & NA         & NA         & NA         & NA         & NA         & NA         &  1        \\\\\n",
       "\t  -4.433922 & NA         & NA         & NA         & NA         & NA         & NA         & NA         & NA         & NA         & ⋯          & NA         & NA         & NA         & NA         & NA         & NA         & NA         & NA         & NA         & NA        \\\\\n",
       "\t  -4.385238 & NA         & NA         & NA         & NA         & NA         & NA         & NA         & NA         & NA         & ⋯          & NA         & NA         & NA         & NA         & NA         & NA         & NA         & NA         & NA         & NA        \\\\\n",
       "\t  -4.484494 & NA         & NA         & NA         & NA         & NA         & NA         & NA         & NA         & NA         & ⋯          & NA         & NA         & NA         & NA         & NA         & NA         & NA         & NA         & NA         & NA        \\\\\n",
       "\t   0.279827 & NA         & NA         & NA         & NA         & NA         & NA         & NA         & NA         & NA         & ⋯          & NA         & NA         & NA         & NA         & NA         & NA         & NA         & NA         & NA         & NA        \\\\\n",
       "\t  -5.272580 & NA         & NA         & NA         & NA         & NA         & NA         & NA         & NA         & NA         & ⋯          & NA         & NA         & NA         & NA         & NA         & NA         & NA         & NA         & NA         & NA        \\\\\n",
       "\t  -9.091237 & NA         & NA         & NA         & NA         & NA         & NA         & NA         & NA         & NA         & ⋯          & NA         & NA         & NA         & NA         & NA         & NA         & NA         & NA         & NA         & NA        \\\\\n",
       "\t  -8.854920 & NA         & NA         & NA         & NA         & NA         & NA         & NA         & NA         & NA         & ⋯          & NA         & NA         & NA         & NA         & NA         & NA         & NA         & NA         & NA         & NA        \\\\\n",
       "\t  -4.508987 & NA         & NA         & NA         & NA         & NA         & NA         & NA         & NA         & NA         & ⋯          & NA         & NA         & NA         & NA         & NA         & NA         & NA         & NA         & NA         & NA        \\\\\n",
       "\t  -8.307543 & NA         & NA         & NA         & NA         & NA         & NA         & NA         & NA         & NA         & ⋯          & NA         & NA         & NA         & NA         & NA         & NA         & NA         & NA         & NA         & NA        \\\\\n",
       "\t  -5.475822 & NA         & NA         & NA         & NA         & NA         & NA         & NA         & NA         & NA         & ⋯          & NA         & NA         & NA         & NA         & NA         & NA         & NA         & NA         & NA         & NA        \\\\\n",
       "\t  -8.146446 & NA         & NA         & NA         & NA         & NA         & NA         & NA         & NA         & NA         & ⋯          & NA         & NA         & NA         & NA         & NA         & NA         & NA         & NA         & NA         & NA        \\\\\n",
       "\t -10.292219 & NA         & NA         & NA         & NA         & NA         & NA         & NA         & NA         & NA         & ⋯          & NA         & NA         & NA         & NA         & NA         & NA         & NA         & NA         & NA         & NA        \\\\\n",
       "\t -12.360771 & NA         & NA         & NA         & NA         & NA         & NA         & NA         & NA         & NA         & ⋯          & NA         & NA         & NA         & NA         & NA         & NA         & NA         & NA         & NA         & NA        \\\\\n",
       "\t ⋮ & ⋮ & ⋮ & ⋮ & ⋮ & ⋮ & ⋮ & ⋮ & ⋮ & ⋮ & ⋱ & ⋮ & ⋮ & ⋮ & ⋮ & ⋮ & ⋮ & ⋮ & ⋮ & ⋮ & ⋮\\\\\n",
       "\t -6.492990 & NA        & NA        & NA        & NA        &  1        & NA        & NA        & NA        & NA        & ⋯         & NA        & NA        & NA        & NA        & NA        & NA        & NA        & NA        & NA        & NA       \\\\\n",
       "\t -2.227562 & NA        & NA        & NA        & NA        & NA        & NA        & NA        & NA        & NA        & ⋯         & NA        & NA        & NA        & NA        & NA        & NA        & NA        & NA        & NA        & NA       \\\\\n",
       "\t -2.457848 & NA        & NA        & NA        & NA        & NA        & NA        & NA        & NA        & NA        & ⋯         & NA        & NA        & NA        & NA        & NA        & NA        & NA        & NA        &  1        & NA       \\\\\n",
       "\t -5.750804 & NA        & NA        & NA        & NA        & NA        & NA        & NA        & NA        & NA        & ⋯         & NA        & NA        & NA        & NA        & NA        & NA        & NA        & NA        & NA        & NA       \\\\\n",
       "\t -6.443277 & NA        & NA        & NA        & NA        & NA        & NA        & NA        & NA        & NA        & ⋯         & NA        & NA        & NA        & NA        & NA        & NA        & NA        & NA        & NA        & NA       \\\\\n",
       "\t -3.993795 & NA        & NA        & NA        & NA        & NA        & NA        & NA        &  1        & NA        & ⋯         & NA        & NA        & NA        & NA        & NA        & NA        & NA        & NA        & NA        & NA       \\\\\n",
       "\t -4.134215 & NA        & NA        & NA        & NA        & NA        & NA        & NA        & NA        & NA        & ⋯         & NA        & NA        & NA        & NA        & NA        & NA        & NA        & NA        & NA        & NA       \\\\\n",
       "\t -7.409354 & NA        & NA        & NA        & NA        & NA        & NA        & NA        & NA        & NA        & ⋯         & NA        & NA        & NA        & NA        & NA        & NA        & NA        & NA        & NA        & NA       \\\\\n",
       "\t -6.566523 & NA        & NA        & NA        & NA        & NA        & NA        & NA        & NA        & NA        & ⋯         & NA        & NA        & NA        & NA        & NA        & NA        & NA        & NA        & NA        & NA       \\\\\n",
       "\t -3.075370 & NA        & NA        & NA        & NA        & NA        & NA        & NA        & NA        & NA        & ⋯         & NA        & NA        & NA        & NA        & NA        & NA        & NA        & NA        & NA        & NA       \\\\\n",
       "\t -5.520184 & NA        & NA        & NA        & NA        & NA        & NA        & NA        & NA        & NA        & ⋯         & NA        & NA        & NA        & NA        & NA        & NA        & NA        & NA        & NA        & NA       \\\\\n",
       "\t -8.449882 & NA        & NA        & NA        & NA        & NA        & NA        & NA        & NA        & NA        & ⋯         & NA        & NA        & NA        & NA        & NA        & NA        & NA        & NA        & NA        & NA       \\\\\n",
       "\t -5.663167 & NA        & NA        & NA        & NA        & NA        & NA        & NA        & NA        & NA        & ⋯         & NA        & NA        & NA        & NA        &  1        & NA        & NA        & NA        & NA        & NA       \\\\\n",
       "\t -9.237009 & NA        & NA        & NA        & NA        & NA        & NA        & NA        & NA        & NA        & ⋯         & NA        & NA        & NA        & NA        & NA        & NA        & NA        & NA        & NA        & NA       \\\\\n",
       "\t -6.141537 & NA        & NA        & NA        & NA        & NA        & NA        & NA        & NA        & NA        & ⋯         & NA        & NA        & NA        & NA        & NA        & NA        & NA        & NA        & NA        & NA       \\\\\n",
       "\t -9.590631 & NA        & NA        & NA        & NA        & NA        & NA        & NA        & NA        & NA        & ⋯         & NA        & NA        & NA        & NA        & NA        & NA        & NA        & NA        & NA        & NA       \\\\\n",
       "\t -3.968829 & NA        & NA        & NA        & NA        & NA        & NA        & NA        & NA        & NA        & ⋯         & NA        & NA        & NA        & NA        & NA        & NA        & NA        & NA        & NA        & NA       \\\\\n",
       "\t -5.692688 & NA        & NA        & NA        & NA        &  1        & NA        & NA        & NA        & NA        & ⋯         & NA        & NA        & NA        & NA        & NA        & NA        & NA        & NA        & NA        & NA       \\\\\n",
       "\t -5.275879 & NA        & NA        & NA        & NA        & NA        &  1        & NA        & NA        & NA        & ⋯         & NA        & NA        & NA        & NA        & NA        & NA        & NA        & NA        & NA        & NA       \\\\\n",
       "\t -6.060414 & NA        & NA        & NA        & NA        & NA        & NA        & NA        & NA        & NA        & ⋯         & NA        & NA        & NA        & NA        & NA        & NA        & NA        & NA        & NA        & NA       \\\\\n",
       "\t -5.467657 & NA        & NA        & NA        & NA        & NA        & NA        & NA        & NA        &  1        & ⋯         & NA        & NA        & NA        & NA        & NA        & NA        & NA        & NA        & NA        & NA       \\\\\n",
       "\t -5.528911 & NA        & NA        & NA        & NA        & NA        & NA        & NA        &  1        & NA        & ⋯         & NA        & NA        & NA        & NA        & NA        & NA        & NA        & NA        & NA        & NA       \\\\\n",
       "\t -3.756101 & NA        & NA        & NA        & NA        & NA        & NA        & NA        & NA        & NA        & ⋯         & NA        & NA        & NA        & NA        & NA        & NA        & NA        & NA        & NA        & NA       \\\\\n",
       "\t -5.796847 &  1        & NA        & NA        & NA        & NA        & NA        & NA        & NA        & NA        & ⋯         & NA        & NA        & NA        & NA        & NA        & NA        & NA        & NA        & NA        & NA       \\\\\n",
       "\t -5.606056 & NA        & NA        & NA        & NA        & NA        &  1        & NA        & NA        & NA        & ⋯         & NA        & NA        & NA        & NA        & NA        & NA        & NA        & NA        & NA        & NA       \\\\\n",
       "\t -5.123637 & NA        & NA        & NA        & NA        & NA        & NA        & NA        & NA        & NA        & ⋯         & NA        & NA        & NA        & NA        & NA        & NA        & NA        & NA        & NA        & NA       \\\\\n",
       "\t -5.125730 &  1        & NA        & NA        & NA        & NA        & NA        & NA        & NA        & NA        & ⋯         & NA        & NA        & NA        & NA        & NA        & NA        & NA        & NA        & NA        & NA       \\\\\n",
       "\t -6.385087 & NA        & NA        & NA        & NA        & NA        & NA        & NA        & NA        & NA        & ⋯         & NA        & NA        & NA        & NA        & NA        & NA        & NA        & NA        & NA        & NA       \\\\\n",
       "\t -6.606151 & NA        & NA        & NA        & NA        & NA        & NA        & NA        & NA        & NA        & ⋯         & NA        & NA        & NA        & NA        & NA        & NA        & NA        & NA        & NA        & NA       \\\\\n",
       "\t -3.860058 & NA        & NA        & NA        & NA        & NA        & NA        & NA        & NA        &  1        & ⋯         & NA        & NA        & NA        & NA        & NA        & NA        & NA        & NA        & NA        & NA       \\\\\n",
       "\\end{tabular}\n"
      ],
      "text/markdown": [
       "\n",
       "finalenergyperatom | Ac | Ag | Al | Ar | As | Au | B | Ba | Be | ⋯ | Tl | Tm | U | V | W | Xe | Y | Yb | Zn | Zr | \n",
       "|---|---|---|---|---|---|---|---|---|---|---|---|---|---|---|---|---|---|---|---|---|---|---|---|---|---|---|---|---|---|---|---|---|---|---|---|---|---|---|---|---|---|---|---|---|---|---|---|---|---|---|---|---|---|---|---|---|---|---|---|---|\n",
       "|  -4.468631 | NA         | NA         | NA         | NA         | NA         | NA         | NA         | NA         | NA         | ⋯          | NA         |  3         | NA         | NA         | NA         | NA         | NA         | NA         | NA         | NA         | \n",
       "|  -4.511592 | NA         | NA         | NA         | NA         | NA         | NA         | NA         | NA         | NA         | ⋯          | NA         | NA         | NA         | NA         | NA         | NA         | NA         | NA         | NA         | NA         | \n",
       "|  -0.029181 | NA         | NA         | NA         | NA         | NA         | NA         | NA         | NA         | NA         | ⋯          | NA         | NA         | NA         | NA         | NA         | NA         | NA         | NA         | NA         | NA         | \n",
       "|  -4.804203 | NA         | NA         | NA         | NA         | NA         | NA         | NA         | NA         | NA         | ⋯          | NA         | NA         | NA         | NA         | NA         | NA         | NA         | NA         | NA         | NA         | \n",
       "|  -4.648720 | NA         | NA         | NA         | NA         | NA         | NA         | NA         | NA         | NA         | ⋯          | NA         | NA         | NA         | NA         | NA         | NA         | NA         | NA         | NA         | NA         | \n",
       "|  -0.001324 | NA         | NA         | NA         | NA         | NA         | NA         | NA         | NA         | NA         | ⋯          | NA         | NA         | NA         | NA         | NA         | NA         | NA         | NA         | NA         | NA         | \n",
       "|  -8.682485 | NA         | NA         | NA         | NA         | NA         | NA         | NA         | NA         | NA         | ⋯          | NA         | NA         | NA         |  1         | NA         | NA         | NA         | NA         | NA         | NA         | \n",
       "|  -0.962353 | NA         | NA         | NA         | NA         | NA         | NA         | NA         | NA         | NA         | ⋯          | NA         | NA         | NA         | NA         | NA         | NA         | NA         | NA         | NA         | NA         | \n",
       "| -11.610272 | NA         | NA         | NA         | NA         | NA         | NA         | NA         | NA         | NA         | ⋯          | NA         | NA         | NA         | NA         | NA         | NA         | NA         | NA         | NA         | NA         | \n",
       "|  -8.940979 | NA         | NA         | NA         | NA         | NA         | NA         | NA         | NA         | NA         | ⋯          | NA         | NA         | NA         |  1         | NA         | NA         | NA         | NA         | NA         | NA         | \n",
       "|  -0.029318 | NA         | NA         | NA         | NA         | NA         | NA         | NA         | NA         | NA         | ⋯          | NA         | NA         | NA         | NA         | NA         | NA         | NA         | NA         | NA         | NA         | \n",
       "|  -3.744951 | NA         | NA         |  1         | NA         | NA         | NA         | NA         | NA         | NA         | ⋯          | NA         | NA         | NA         | NA         | NA         | NA         | NA         | NA         | NA         | NA         | \n",
       "|   0.177302 | NA         | NA         | NA         | NA         | NA         | NA         | NA         | NA         | NA         | ⋯          | NA         | NA         | NA         | NA         | NA         | NA         | NA         | NA         | NA         | NA         | \n",
       "|  -1.096390 | NA         | NA         | NA         | NA         | NA         | NA         | NA         | NA         | NA         | ⋯          | NA         | NA         | NA         | NA         | NA         | NA         | NA         | NA         | NA         | NA         | \n",
       "|  -7.269405 | NA         | NA         | NA         | NA         | NA         | NA         | NA         | NA         | NA         | ⋯          | NA         | NA         | NA         | NA         | NA         | NA         | NA         | NA         | NA         | NA         | \n",
       "|  -4.421936 | NA         | NA         | NA         | NA         | NA         | NA         | NA         | NA         | NA         | ⋯          | NA         | NA         | NA         | NA         | NA         | NA         | NA         | NA         | NA         | NA         | \n",
       "|  -8.467541 | NA         | NA         | NA         | NA         | NA         | NA         | NA         | NA         | NA         | ⋯          | NA         | NA         | NA         | NA         | NA         | NA         | NA         | NA         | NA         |  1         | \n",
       "|  -4.433922 | NA         | NA         | NA         | NA         | NA         | NA         | NA         | NA         | NA         | ⋯          | NA         | NA         | NA         | NA         | NA         | NA         | NA         | NA         | NA         | NA         | \n",
       "|  -4.385238 | NA         | NA         | NA         | NA         | NA         | NA         | NA         | NA         | NA         | ⋯          | NA         | NA         | NA         | NA         | NA         | NA         | NA         | NA         | NA         | NA         | \n",
       "|  -4.484494 | NA         | NA         | NA         | NA         | NA         | NA         | NA         | NA         | NA         | ⋯          | NA         | NA         | NA         | NA         | NA         | NA         | NA         | NA         | NA         | NA         | \n",
       "|   0.279827 | NA         | NA         | NA         | NA         | NA         | NA         | NA         | NA         | NA         | ⋯          | NA         | NA         | NA         | NA         | NA         | NA         | NA         | NA         | NA         | NA         | \n",
       "|  -5.272580 | NA         | NA         | NA         | NA         | NA         | NA         | NA         | NA         | NA         | ⋯          | NA         | NA         | NA         | NA         | NA         | NA         | NA         | NA         | NA         | NA         | \n",
       "|  -9.091237 | NA         | NA         | NA         | NA         | NA         | NA         | NA         | NA         | NA         | ⋯          | NA         | NA         | NA         | NA         | NA         | NA         | NA         | NA         | NA         | NA         | \n",
       "|  -8.854920 | NA         | NA         | NA         | NA         | NA         | NA         | NA         | NA         | NA         | ⋯          | NA         | NA         | NA         | NA         | NA         | NA         | NA         | NA         | NA         | NA         | \n",
       "|  -4.508987 | NA         | NA         | NA         | NA         | NA         | NA         | NA         | NA         | NA         | ⋯          | NA         | NA         | NA         | NA         | NA         | NA         | NA         | NA         | NA         | NA         | \n",
       "|  -8.307543 | NA         | NA         | NA         | NA         | NA         | NA         | NA         | NA         | NA         | ⋯          | NA         | NA         | NA         | NA         | NA         | NA         | NA         | NA         | NA         | NA         | \n",
       "|  -5.475822 | NA         | NA         | NA         | NA         | NA         | NA         | NA         | NA         | NA         | ⋯          | NA         | NA         | NA         | NA         | NA         | NA         | NA         | NA         | NA         | NA         | \n",
       "|  -8.146446 | NA         | NA         | NA         | NA         | NA         | NA         | NA         | NA         | NA         | ⋯          | NA         | NA         | NA         | NA         | NA         | NA         | NA         | NA         | NA         | NA         | \n",
       "| -10.292219 | NA         | NA         | NA         | NA         | NA         | NA         | NA         | NA         | NA         | ⋯          | NA         | NA         | NA         | NA         | NA         | NA         | NA         | NA         | NA         | NA         | \n",
       "| -12.360771 | NA         | NA         | NA         | NA         | NA         | NA         | NA         | NA         | NA         | ⋯          | NA         | NA         | NA         | NA         | NA         | NA         | NA         | NA         | NA         | NA         | \n",
       "| ⋮ | ⋮ | ⋮ | ⋮ | ⋮ | ⋮ | ⋮ | ⋮ | ⋮ | ⋮ | ⋱ | ⋮ | ⋮ | ⋮ | ⋮ | ⋮ | ⋮ | ⋮ | ⋮ | ⋮ | ⋮ | \n",
       "| -6.492990 | NA        | NA        | NA        | NA        |  1        | NA        | NA        | NA        | NA        | ⋯         | NA        | NA        | NA        | NA        | NA        | NA        | NA        | NA        | NA        | NA        | \n",
       "| -2.227562 | NA        | NA        | NA        | NA        | NA        | NA        | NA        | NA        | NA        | ⋯         | NA        | NA        | NA        | NA        | NA        | NA        | NA        | NA        | NA        | NA        | \n",
       "| -2.457848 | NA        | NA        | NA        | NA        | NA        | NA        | NA        | NA        | NA        | ⋯         | NA        | NA        | NA        | NA        | NA        | NA        | NA        | NA        |  1        | NA        | \n",
       "| -5.750804 | NA        | NA        | NA        | NA        | NA        | NA        | NA        | NA        | NA        | ⋯         | NA        | NA        | NA        | NA        | NA        | NA        | NA        | NA        | NA        | NA        | \n",
       "| -6.443277 | NA        | NA        | NA        | NA        | NA        | NA        | NA        | NA        | NA        | ⋯         | NA        | NA        | NA        | NA        | NA        | NA        | NA        | NA        | NA        | NA        | \n",
       "| -3.993795 | NA        | NA        | NA        | NA        | NA        | NA        | NA        |  1        | NA        | ⋯         | NA        | NA        | NA        | NA        | NA        | NA        | NA        | NA        | NA        | NA        | \n",
       "| -4.134215 | NA        | NA        | NA        | NA        | NA        | NA        | NA        | NA        | NA        | ⋯         | NA        | NA        | NA        | NA        | NA        | NA        | NA        | NA        | NA        | NA        | \n",
       "| -7.409354 | NA        | NA        | NA        | NA        | NA        | NA        | NA        | NA        | NA        | ⋯         | NA        | NA        | NA        | NA        | NA        | NA        | NA        | NA        | NA        | NA        | \n",
       "| -6.566523 | NA        | NA        | NA        | NA        | NA        | NA        | NA        | NA        | NA        | ⋯         | NA        | NA        | NA        | NA        | NA        | NA        | NA        | NA        | NA        | NA        | \n",
       "| -3.075370 | NA        | NA        | NA        | NA        | NA        | NA        | NA        | NA        | NA        | ⋯         | NA        | NA        | NA        | NA        | NA        | NA        | NA        | NA        | NA        | NA        | \n",
       "| -5.520184 | NA        | NA        | NA        | NA        | NA        | NA        | NA        | NA        | NA        | ⋯         | NA        | NA        | NA        | NA        | NA        | NA        | NA        | NA        | NA        | NA        | \n",
       "| -8.449882 | NA        | NA        | NA        | NA        | NA        | NA        | NA        | NA        | NA        | ⋯         | NA        | NA        | NA        | NA        | NA        | NA        | NA        | NA        | NA        | NA        | \n",
       "| -5.663167 | NA        | NA        | NA        | NA        | NA        | NA        | NA        | NA        | NA        | ⋯         | NA        | NA        | NA        | NA        |  1        | NA        | NA        | NA        | NA        | NA        | \n",
       "| -9.237009 | NA        | NA        | NA        | NA        | NA        | NA        | NA        | NA        | NA        | ⋯         | NA        | NA        | NA        | NA        | NA        | NA        | NA        | NA        | NA        | NA        | \n",
       "| -6.141537 | NA        | NA        | NA        | NA        | NA        | NA        | NA        | NA        | NA        | ⋯         | NA        | NA        | NA        | NA        | NA        | NA        | NA        | NA        | NA        | NA        | \n",
       "| -9.590631 | NA        | NA        | NA        | NA        | NA        | NA        | NA        | NA        | NA        | ⋯         | NA        | NA        | NA        | NA        | NA        | NA        | NA        | NA        | NA        | NA        | \n",
       "| -3.968829 | NA        | NA        | NA        | NA        | NA        | NA        | NA        | NA        | NA        | ⋯         | NA        | NA        | NA        | NA        | NA        | NA        | NA        | NA        | NA        | NA        | \n",
       "| -5.692688 | NA        | NA        | NA        | NA        |  1        | NA        | NA        | NA        | NA        | ⋯         | NA        | NA        | NA        | NA        | NA        | NA        | NA        | NA        | NA        | NA        | \n",
       "| -5.275879 | NA        | NA        | NA        | NA        | NA        |  1        | NA        | NA        | NA        | ⋯         | NA        | NA        | NA        | NA        | NA        | NA        | NA        | NA        | NA        | NA        | \n",
       "| -6.060414 | NA        | NA        | NA        | NA        | NA        | NA        | NA        | NA        | NA        | ⋯         | NA        | NA        | NA        | NA        | NA        | NA        | NA        | NA        | NA        | NA        | \n",
       "| -5.467657 | NA        | NA        | NA        | NA        | NA        | NA        | NA        | NA        |  1        | ⋯         | NA        | NA        | NA        | NA        | NA        | NA        | NA        | NA        | NA        | NA        | \n",
       "| -5.528911 | NA        | NA        | NA        | NA        | NA        | NA        | NA        |  1        | NA        | ⋯         | NA        | NA        | NA        | NA        | NA        | NA        | NA        | NA        | NA        | NA        | \n",
       "| -3.756101 | NA        | NA        | NA        | NA        | NA        | NA        | NA        | NA        | NA        | ⋯         | NA        | NA        | NA        | NA        | NA        | NA        | NA        | NA        | NA        | NA        | \n",
       "| -5.796847 |  1        | NA        | NA        | NA        | NA        | NA        | NA        | NA        | NA        | ⋯         | NA        | NA        | NA        | NA        | NA        | NA        | NA        | NA        | NA        | NA        | \n",
       "| -5.606056 | NA        | NA        | NA        | NA        | NA        |  1        | NA        | NA        | NA        | ⋯         | NA        | NA        | NA        | NA        | NA        | NA        | NA        | NA        | NA        | NA        | \n",
       "| -5.123637 | NA        | NA        | NA        | NA        | NA        | NA        | NA        | NA        | NA        | ⋯         | NA        | NA        | NA        | NA        | NA        | NA        | NA        | NA        | NA        | NA        | \n",
       "| -5.125730 |  1        | NA        | NA        | NA        | NA        | NA        | NA        | NA        | NA        | ⋯         | NA        | NA        | NA        | NA        | NA        | NA        | NA        | NA        | NA        | NA        | \n",
       "| -6.385087 | NA        | NA        | NA        | NA        | NA        | NA        | NA        | NA        | NA        | ⋯         | NA        | NA        | NA        | NA        | NA        | NA        | NA        | NA        | NA        | NA        | \n",
       "| -6.606151 | NA        | NA        | NA        | NA        | NA        | NA        | NA        | NA        | NA        | ⋯         | NA        | NA        | NA        | NA        | NA        | NA        | NA        | NA        | NA        | NA        | \n",
       "| -3.860058 | NA        | NA        | NA        | NA        | NA        | NA        | NA        | NA        |  1        | ⋯         | NA        | NA        | NA        | NA        | NA        | NA        | NA        | NA        | NA        | NA        | \n",
       "\n",
       "\n"
      ],
      "text/plain": [
       "       finalenergyperatom Ac Ag Al Ar As Au B  Ba Be ⋯ Tl Tm U  V  W  Xe Y  Yb\n",
       "1       -4.468631         NA NA NA NA NA NA NA NA NA ⋯ NA  3 NA NA NA NA NA NA\n",
       "2       -4.511592         NA NA NA NA NA NA NA NA NA ⋯ NA NA NA NA NA NA NA NA\n",
       "3       -0.029181         NA NA NA NA NA NA NA NA NA ⋯ NA NA NA NA NA NA NA NA\n",
       "4       -4.804203         NA NA NA NA NA NA NA NA NA ⋯ NA NA NA NA NA NA NA NA\n",
       "5       -4.648720         NA NA NA NA NA NA NA NA NA ⋯ NA NA NA NA NA NA NA NA\n",
       "6       -0.001324         NA NA NA NA NA NA NA NA NA ⋯ NA NA NA NA NA NA NA NA\n",
       "7       -8.682485         NA NA NA NA NA NA NA NA NA ⋯ NA NA NA  1 NA NA NA NA\n",
       "8       -0.962353         NA NA NA NA NA NA NA NA NA ⋯ NA NA NA NA NA NA NA NA\n",
       "9      -11.610272         NA NA NA NA NA NA NA NA NA ⋯ NA NA NA NA NA NA NA NA\n",
       "10      -8.940979         NA NA NA NA NA NA NA NA NA ⋯ NA NA NA  1 NA NA NA NA\n",
       "11      -0.029318         NA NA NA NA NA NA NA NA NA ⋯ NA NA NA NA NA NA NA NA\n",
       "12      -3.744951         NA NA  1 NA NA NA NA NA NA ⋯ NA NA NA NA NA NA NA NA\n",
       "13       0.177302         NA NA NA NA NA NA NA NA NA ⋯ NA NA NA NA NA NA NA NA\n",
       "14      -1.096390         NA NA NA NA NA NA NA NA NA ⋯ NA NA NA NA NA NA NA NA\n",
       "15      -7.269405         NA NA NA NA NA NA NA NA NA ⋯ NA NA NA NA NA NA NA NA\n",
       "16      -4.421936         NA NA NA NA NA NA NA NA NA ⋯ NA NA NA NA NA NA NA NA\n",
       "17      -8.467541         NA NA NA NA NA NA NA NA NA ⋯ NA NA NA NA NA NA NA NA\n",
       "18      -4.433922         NA NA NA NA NA NA NA NA NA ⋯ NA NA NA NA NA NA NA NA\n",
       "19      -4.385238         NA NA NA NA NA NA NA NA NA ⋯ NA NA NA NA NA NA NA NA\n",
       "20      -4.484494         NA NA NA NA NA NA NA NA NA ⋯ NA NA NA NA NA NA NA NA\n",
       "21       0.279827         NA NA NA NA NA NA NA NA NA ⋯ NA NA NA NA NA NA NA NA\n",
       "22      -5.272580         NA NA NA NA NA NA NA NA NA ⋯ NA NA NA NA NA NA NA NA\n",
       "23      -9.091237         NA NA NA NA NA NA NA NA NA ⋯ NA NA NA NA NA NA NA NA\n",
       "24      -8.854920         NA NA NA NA NA NA NA NA NA ⋯ NA NA NA NA NA NA NA NA\n",
       "25      -4.508987         NA NA NA NA NA NA NA NA NA ⋯ NA NA NA NA NA NA NA NA\n",
       "26      -8.307543         NA NA NA NA NA NA NA NA NA ⋯ NA NA NA NA NA NA NA NA\n",
       "27      -5.475822         NA NA NA NA NA NA NA NA NA ⋯ NA NA NA NA NA NA NA NA\n",
       "28      -8.146446         NA NA NA NA NA NA NA NA NA ⋯ NA NA NA NA NA NA NA NA\n",
       "29     -10.292219         NA NA NA NA NA NA NA NA NA ⋯ NA NA NA NA NA NA NA NA\n",
       "30     -12.360771         NA NA NA NA NA NA NA NA NA ⋯ NA NA NA NA NA NA NA NA\n",
       "⋮      ⋮                  ⋮  ⋮  ⋮  ⋮  ⋮  ⋮  ⋮  ⋮  ⋮  ⋱ ⋮  ⋮  ⋮  ⋮  ⋮  ⋮  ⋮  ⋮ \n",
       "120514 -6.492990          NA NA NA NA  1 NA NA NA NA ⋯ NA NA NA NA NA NA NA NA\n",
       "120515 -2.227562          NA NA NA NA NA NA NA NA NA ⋯ NA NA NA NA NA NA NA NA\n",
       "120516 -2.457848          NA NA NA NA NA NA NA NA NA ⋯ NA NA NA NA NA NA NA NA\n",
       "120517 -5.750804          NA NA NA NA NA NA NA NA NA ⋯ NA NA NA NA NA NA NA NA\n",
       "120518 -6.443277          NA NA NA NA NA NA NA NA NA ⋯ NA NA NA NA NA NA NA NA\n",
       "120519 -3.993795          NA NA NA NA NA NA NA  1 NA ⋯ NA NA NA NA NA NA NA NA\n",
       "120520 -4.134215          NA NA NA NA NA NA NA NA NA ⋯ NA NA NA NA NA NA NA NA\n",
       "120521 -7.409354          NA NA NA NA NA NA NA NA NA ⋯ NA NA NA NA NA NA NA NA\n",
       "120522 -6.566523          NA NA NA NA NA NA NA NA NA ⋯ NA NA NA NA NA NA NA NA\n",
       "120523 -3.075370          NA NA NA NA NA NA NA NA NA ⋯ NA NA NA NA NA NA NA NA\n",
       "120524 -5.520184          NA NA NA NA NA NA NA NA NA ⋯ NA NA NA NA NA NA NA NA\n",
       "120525 -8.449882          NA NA NA NA NA NA NA NA NA ⋯ NA NA NA NA NA NA NA NA\n",
       "120526 -5.663167          NA NA NA NA NA NA NA NA NA ⋯ NA NA NA NA  1 NA NA NA\n",
       "120527 -9.237009          NA NA NA NA NA NA NA NA NA ⋯ NA NA NA NA NA NA NA NA\n",
       "120528 -6.141537          NA NA NA NA NA NA NA NA NA ⋯ NA NA NA NA NA NA NA NA\n",
       "120529 -9.590631          NA NA NA NA NA NA NA NA NA ⋯ NA NA NA NA NA NA NA NA\n",
       "120530 -3.968829          NA NA NA NA NA NA NA NA NA ⋯ NA NA NA NA NA NA NA NA\n",
       "120531 -5.692688          NA NA NA NA  1 NA NA NA NA ⋯ NA NA NA NA NA NA NA NA\n",
       "120532 -5.275879          NA NA NA NA NA  1 NA NA NA ⋯ NA NA NA NA NA NA NA NA\n",
       "120533 -6.060414          NA NA NA NA NA NA NA NA NA ⋯ NA NA NA NA NA NA NA NA\n",
       "120534 -5.467657          NA NA NA NA NA NA NA NA  1 ⋯ NA NA NA NA NA NA NA NA\n",
       "120535 -5.528911          NA NA NA NA NA NA NA  1 NA ⋯ NA NA NA NA NA NA NA NA\n",
       "120536 -3.756101          NA NA NA NA NA NA NA NA NA ⋯ NA NA NA NA NA NA NA NA\n",
       "120537 -5.796847           1 NA NA NA NA NA NA NA NA ⋯ NA NA NA NA NA NA NA NA\n",
       "120538 -5.606056          NA NA NA NA NA  1 NA NA NA ⋯ NA NA NA NA NA NA NA NA\n",
       "120539 -5.123637          NA NA NA NA NA NA NA NA NA ⋯ NA NA NA NA NA NA NA NA\n",
       "120540 -5.125730           1 NA NA NA NA NA NA NA NA ⋯ NA NA NA NA NA NA NA NA\n",
       "120541 -6.385087          NA NA NA NA NA NA NA NA NA ⋯ NA NA NA NA NA NA NA NA\n",
       "120542 -6.606151          NA NA NA NA NA NA NA NA NA ⋯ NA NA NA NA NA NA NA NA\n",
       "120543 -3.860058          NA NA NA NA NA NA NA NA  1 ⋯ NA NA NA NA NA NA NA NA\n",
       "       Zn Zr\n",
       "1      NA NA\n",
       "2      NA NA\n",
       "3      NA NA\n",
       "4      NA NA\n",
       "5      NA NA\n",
       "6      NA NA\n",
       "7      NA NA\n",
       "8      NA NA\n",
       "9      NA NA\n",
       "10     NA NA\n",
       "11     NA NA\n",
       "12     NA NA\n",
       "13     NA NA\n",
       "14     NA NA\n",
       "15     NA NA\n",
       "16     NA NA\n",
       "17     NA  1\n",
       "18     NA NA\n",
       "19     NA NA\n",
       "20     NA NA\n",
       "21     NA NA\n",
       "22     NA NA\n",
       "23     NA NA\n",
       "24     NA NA\n",
       "25     NA NA\n",
       "26     NA NA\n",
       "27     NA NA\n",
       "28     NA NA\n",
       "29     NA NA\n",
       "30     NA NA\n",
       "⋮      ⋮  ⋮ \n",
       "120514 NA NA\n",
       "120515 NA NA\n",
       "120516  1 NA\n",
       "120517 NA NA\n",
       "120518 NA NA\n",
       "120519 NA NA\n",
       "120520 NA NA\n",
       "120521 NA NA\n",
       "120522 NA NA\n",
       "120523 NA NA\n",
       "120524 NA NA\n",
       "120525 NA NA\n",
       "120526 NA NA\n",
       "120527 NA NA\n",
       "120528 NA NA\n",
       "120529 NA NA\n",
       "120530 NA NA\n",
       "120531 NA NA\n",
       "120532 NA NA\n",
       "120533 NA NA\n",
       "120534 NA NA\n",
       "120535 NA NA\n",
       "120536 NA NA\n",
       "120537 NA NA\n",
       "120538 NA NA\n",
       "120539 NA NA\n",
       "120540 NA NA\n",
       "120541 NA NA\n",
       "120542 NA NA\n",
       "120543 NA NA"
      ]
     },
     "metadata": {},
     "output_type": "display_data"
    }
   ],
   "source": [
    "# 데이터 확인\n",
    "all_data"
   ]
  },
  {
   "cell_type": "markdown",
   "metadata": {},
   "source": [
    "R의 nrow(), length() 함수를 이용하여 데이터의 열의 수(# of rows), 행의 수(# of columns) 를 확인해보자. (R 구버전의 경우 len())\n",
    "\n",
    "해당 데이터는 1개의 열이(finalenergyperatom) 출력 값인 Label 이므로 89개 열들이(Ac ~ Zr) 입력 값인 Features로 사용될 것이다."
   ]
  },
  {
   "cell_type": "code",
   "execution_count": 4,
   "metadata": {},
   "outputs": [
    {
     "data": {
      "text/html": [
       "120543"
      ],
      "text/latex": [
       "120543"
      ],
      "text/markdown": [
       "120543"
      ],
      "text/plain": [
       "[1] 120543"
      ]
     },
     "metadata": {},
     "output_type": "display_data"
    },
    {
     "data": {
      "text/html": [
       "90"
      ],
      "text/latex": [
       "90"
      ],
      "text/markdown": [
       "90"
      ],
      "text/plain": [
       "[1] 90"
      ]
     },
     "metadata": {},
     "output_type": "display_data"
    }
   ],
   "source": [
    "# 총 데이터의 수 (rows)\n",
    "nrow(all_data)\n",
    "\n",
    "# 총 입출력 레이블의 수 (columns)\n",
    "length(all_data)"
   ]
  },
  {
   "cell_type": "markdown",
   "metadata": {},
   "source": [
    "<hr/>\n",
    "## 2. 데이터 전처리\n",
    "  머신 러닝의 학습에 있어서 데이터 전처리(pre-processing and cleaning data)는 학습의 효율성 및 생성 모델의 성능에 매우 중요한 역할을 수행한다. Raw data 는 종종 이상 값(Noisy), 정보 손실(Incomplete), 또는 데이터 불일치(Inconsistent)등이 발생할 수 있으며 이러한 문제들을 효과적으로 처리해야 잘못된 데이터로 인해 잘못된 결과물이 만들어지는 문제(Garbage-In-Garbage-Out Problem)를 피할 수 있다.\n",
    "  \n",
    "  그리고 학습의 시간을 단축하고 효율적인 학습을 위해 다음의 방안들이 사용된다.\n",
    "  \n",
    "  데이터 정규화(Normalization) - Min-Max normalization, Z-score normalization, 그리고 Decimal scaling 등의 방안을 사용해 데이터 수치를 특정 영역(range)로 재조정(re-scale)하여 계산량을 줄이고 최적점의 수렴을 빠르게 도와준다.\n",
    "  \n",
    "  또는 표준화(Standardization) - 데이터 수치와 평균의 오차를 표준편차로 나누어줌으로서 다차원 값들을 비교, 분석하기 쉽게 만들어준다.\n",
    "  \n",
    "  정규화(Normalization, re-scaling)의 예: \\\\( x'=\\frac{x-min(x)}{max(x)-min(x)} \\\\),\n",
    "  표준화(Standarization)의 예: \\\\( x'=\\frac{x-\\bar{x}}{\\sigma} \\\\)\n",
    "\n",
    "좋은 소식은, 현재까지 대부분의 딥 러닝 프레임워크/패키지/라이브러리들이 전처리에 관련된 다양한 함수들을 손쉬운 옵션 또는 Automatic 옵션으로 제공하고 있다는 점이다. 제공되는 함수 외에 다른 기능이 필요하다면 다음과 같이 간단히 구현하여 적용할 수 있다. 예를 들어, 본 예제에서는 Na 값의 데이터를 0 으로 전환하는 함수를 적용했다."
   ]
  },
  {
   "cell_type": "code",
   "execution_count": 5,
   "metadata": {
    "collapsed": true
   },
   "outputs": [],
   "source": [
    "# 함수 선언: NaN data to zero\n",
    "na.zero <- function (x) {\n",
    "    x[is.na(x)] <- 0\n",
    "    return(x)\n",
    "}\n",
    "\n",
    "# 데이터에 적용\n",
    "all_data <- na.zero(all_data)"
   ]
  },
  {
   "cell_type": "markdown",
   "metadata": {},
   "source": [
    "그리고 로드한 데이터를 학습시킬 데이터(Training dataset)와 검증에 사용할 테스트 데이터(Testing dataset)으로 분리하는 작업을 수행한다. 우리는 앞서 120,543 개의 데이터를 로드하였고 먼저 이들 중 50%의 데이터인 60,271 개의 데이터만을 먼저 사용한다.\n",
    "\n",
    "전체 60,271 개의 데이터 중 80%는 Train_data, 나머지 20%는 Test_data에 각각 샘플링하여 배분한다. (앞서 정의한 seperatingRate, maxSizeRate 변수 값을 조정함으로서 데이터 양을 조정하여 쉽게 모델링 할 수 있다.)"
   ]
  },
  {
   "cell_type": "code",
   "execution_count": 6,
   "metadata": {
    "collapsed": true
   },
   "outputs": [],
   "source": [
    "# down scaling\n",
    "seperatingValue = 0\n",
    "seperatingValue = floor(nrow(all_data)*maxSizeRate*seperatingRate)\n",
    "\n",
    "# train/test data 분리\n",
    "set.seed(1234)\n",
    "all_data_reduced = all_data[sample(nrow(all_data)*maxSizeRate), ]\n",
    "train_data = all_data_reduced[1:seperatingValue, ]\n",
    "test_data = all_data_reduced[(seperatingValue+1):nrow(all_data_reduced), ]"
   ]
  },
  {
   "cell_type": "code",
   "execution_count": 7,
   "metadata": {},
   "outputs": [
    {
     "data": {
      "text/html": [
       "48217"
      ],
      "text/latex": [
       "48217"
      ],
      "text/markdown": [
       "48217"
      ],
      "text/plain": [
       "[1] 48217"
      ]
     },
     "metadata": {},
     "output_type": "display_data"
    },
    {
     "data": {
      "text/html": [
       "12054"
      ],
      "text/latex": [
       "12054"
      ],
      "text/markdown": [
       "12054"
      ],
      "text/plain": [
       "[1] 12054"
      ]
     },
     "metadata": {},
     "output_type": "display_data"
    }
   ],
   "source": [
    "nrow(train_data)\n",
    "nrow(test_data)"
   ]
  },
  {
   "cell_type": "markdown",
   "metadata": {},
   "source": [
    "이제 48,217 개의 Train_data 그리고 12,054 개의 Test_data를 얻었다. 우리가 앞으로 사용할 H2O 딥 러닝 패키지[[3]](http://h2o.ai)[[4]](http://h2orelease.s3.amazonaws.com/h2o/latest_stable_Rdoc.html)는 표준화 과정을 기본 옵션으로 제공하므로 따로 정규화나 표준화 과정을 거칠 필요가 없다."
   ]
  },
  {
   "cell_type": "markdown",
   "metadata": {},
   "source": [
    "<hr/>\n",
    "## 3. 기계 학습 및 최적 모델 생성\n",
    "  기본적인 준비가 되었으니 본격적으로 목표했던 예측 모델을 만들어보자. H2O 패키지의 경우 dataframe type의 데이터를 H2O frametype으로 변환하는 casting이 필요하다."
   ]
  },
  {
   "cell_type": "code",
   "execution_count": 8,
   "metadata": {},
   "outputs": [
    {
     "name": "stderr",
     "output_type": "stream",
     "text": [
      "\n",
      "----------------------------------------------------------------------\n",
      "\n",
      "Your next step is to start H2O:\n",
      "    > h2o.init()\n",
      "\n",
      "For H2O package documentation, ask for help:\n",
      "    > ??h2o\n",
      "\n",
      "After starting H2O, you can use the Web UI at http://localhost:54321\n",
      "For more information visit http://docs.h2o.ai\n",
      "\n",
      "----------------------------------------------------------------------\n",
      "\n",
      "\n",
      "Attaching package: ‘h2o’\n",
      "\n",
      "The following objects are masked from ‘package:stats’:\n",
      "\n",
      "    cor, sd, var\n",
      "\n",
      "The following objects are masked from ‘package:base’:\n",
      "\n",
      "    &&, %*%, %in%, ||, apply, as.factor, as.numeric, colnames,\n",
      "    colnames<-, ifelse, is.character, is.factor, is.numeric, log,\n",
      "    log10, log1p, log2, round, signif, trunc\n",
      "\n"
     ]
    },
    {
     "name": "stdout",
     "output_type": "stream",
     "text": [
      " Connection successful!\n",
      "\n",
      "R is connected to the H2O cluster: \n",
      "    H2O cluster uptime:         22 minutes 1 seconds \n",
      "    H2O cluster version:        3.16.0.2 \n",
      "    H2O cluster version age:    17 days  \n",
      "    H2O cluster name:           H2O_started_from_R_edisonadm_qyl456 \n",
      "    H2O cluster total nodes:    1 \n",
      "    H2O cluster total memory:   20.75 GB \n",
      "    H2O cluster total cores:    32 \n",
      "    H2O cluster allowed cores:  2 \n",
      "    H2O cluster healthy:        TRUE \n",
      "    H2O Connection ip:          localhost \n",
      "    H2O Connection port:        54321 \n",
      "    H2O Connection proxy:       NA \n",
      "    H2O Internal Security:      FALSE \n",
      "    H2O API Extensions:         Algos, AutoML, Core V3, Core V4 \n",
      "    R Version:                  R version 3.4.2 (2017-09-28) \n",
      "\n",
      "  |======================================================================| 100%\n",
      "  |======================================================================| 100%\n"
     ]
    }
   ],
   "source": [
    "# 라이브러리 호출\n",
    "library(h2o)\n",
    "# h2o framework initialize\n",
    "h2o.init(nthreads = 2)\n",
    "\n",
    "# R dataframe type의 데이터를 h2o dataframe 으로 casting\n",
    "training_frame = as.h2o(train_data)\n",
    "testing_frame = as.h2o(test_data)"
   ]
  },
  {
   "cell_type": "markdown",
   "metadata": {},
   "source": [
    "R 언어의 경우 1열, 1행부터 메모리에 직접 access하므로 y.dep 변수에 1행(Final energy per atom), 그리고 x.indep에 2행~90행(Ac ~ Zr)을 정의한다. "
   ]
  },
  {
   "cell_type": "code",
   "execution_count": 9,
   "metadata": {},
   "outputs": [
    {
     "data": {
      "text/html": [
       "1"
      ],
      "text/latex": [
       "1"
      ],
      "text/markdown": [
       "1"
      ],
      "text/plain": [
       "[1] 1"
      ]
     },
     "metadata": {},
     "output_type": "display_data"
    },
    {
     "data": {
      "text/html": [
       "<ol class=list-inline>\n",
       "\t<li>2</li>\n",
       "\t<li>3</li>\n",
       "\t<li>4</li>\n",
       "\t<li>5</li>\n",
       "\t<li>6</li>\n",
       "\t<li>7</li>\n",
       "\t<li>8</li>\n",
       "\t<li>9</li>\n",
       "\t<li>10</li>\n",
       "\t<li>11</li>\n",
       "\t<li>12</li>\n",
       "\t<li>13</li>\n",
       "\t<li>14</li>\n",
       "\t<li>15</li>\n",
       "\t<li>16</li>\n",
       "\t<li>17</li>\n",
       "\t<li>18</li>\n",
       "\t<li>19</li>\n",
       "\t<li>20</li>\n",
       "\t<li>21</li>\n",
       "\t<li>22</li>\n",
       "\t<li>23</li>\n",
       "\t<li>24</li>\n",
       "\t<li>25</li>\n",
       "\t<li>26</li>\n",
       "\t<li>27</li>\n",
       "\t<li>28</li>\n",
       "\t<li>29</li>\n",
       "\t<li>30</li>\n",
       "\t<li>31</li>\n",
       "\t<li>32</li>\n",
       "\t<li>33</li>\n",
       "\t<li>34</li>\n",
       "\t<li>35</li>\n",
       "\t<li>36</li>\n",
       "\t<li>37</li>\n",
       "\t<li>38</li>\n",
       "\t<li>39</li>\n",
       "\t<li>40</li>\n",
       "\t<li>41</li>\n",
       "\t<li>42</li>\n",
       "\t<li>43</li>\n",
       "\t<li>44</li>\n",
       "\t<li>45</li>\n",
       "\t<li>46</li>\n",
       "\t<li>47</li>\n",
       "\t<li>48</li>\n",
       "\t<li>49</li>\n",
       "\t<li>50</li>\n",
       "\t<li>51</li>\n",
       "\t<li>52</li>\n",
       "\t<li>53</li>\n",
       "\t<li>54</li>\n",
       "\t<li>55</li>\n",
       "\t<li>56</li>\n",
       "\t<li>57</li>\n",
       "\t<li>58</li>\n",
       "\t<li>59</li>\n",
       "\t<li>60</li>\n",
       "\t<li>61</li>\n",
       "\t<li>62</li>\n",
       "\t<li>63</li>\n",
       "\t<li>64</li>\n",
       "\t<li>65</li>\n",
       "\t<li>66</li>\n",
       "\t<li>67</li>\n",
       "\t<li>68</li>\n",
       "\t<li>69</li>\n",
       "\t<li>70</li>\n",
       "\t<li>71</li>\n",
       "\t<li>72</li>\n",
       "\t<li>73</li>\n",
       "\t<li>74</li>\n",
       "\t<li>75</li>\n",
       "\t<li>76</li>\n",
       "\t<li>77</li>\n",
       "\t<li>78</li>\n",
       "\t<li>79</li>\n",
       "\t<li>80</li>\n",
       "\t<li>81</li>\n",
       "\t<li>82</li>\n",
       "\t<li>83</li>\n",
       "\t<li>84</li>\n",
       "\t<li>85</li>\n",
       "\t<li>86</li>\n",
       "\t<li>87</li>\n",
       "\t<li>88</li>\n",
       "\t<li>89</li>\n",
       "\t<li>90</li>\n",
       "</ol>\n"
      ],
      "text/latex": [
       "\\begin{enumerate*}\n",
       "\\item 2\n",
       "\\item 3\n",
       "\\item 4\n",
       "\\item 5\n",
       "\\item 6\n",
       "\\item 7\n",
       "\\item 8\n",
       "\\item 9\n",
       "\\item 10\n",
       "\\item 11\n",
       "\\item 12\n",
       "\\item 13\n",
       "\\item 14\n",
       "\\item 15\n",
       "\\item 16\n",
       "\\item 17\n",
       "\\item 18\n",
       "\\item 19\n",
       "\\item 20\n",
       "\\item 21\n",
       "\\item 22\n",
       "\\item 23\n",
       "\\item 24\n",
       "\\item 25\n",
       "\\item 26\n",
       "\\item 27\n",
       "\\item 28\n",
       "\\item 29\n",
       "\\item 30\n",
       "\\item 31\n",
       "\\item 32\n",
       "\\item 33\n",
       "\\item 34\n",
       "\\item 35\n",
       "\\item 36\n",
       "\\item 37\n",
       "\\item 38\n",
       "\\item 39\n",
       "\\item 40\n",
       "\\item 41\n",
       "\\item 42\n",
       "\\item 43\n",
       "\\item 44\n",
       "\\item 45\n",
       "\\item 46\n",
       "\\item 47\n",
       "\\item 48\n",
       "\\item 49\n",
       "\\item 50\n",
       "\\item 51\n",
       "\\item 52\n",
       "\\item 53\n",
       "\\item 54\n",
       "\\item 55\n",
       "\\item 56\n",
       "\\item 57\n",
       "\\item 58\n",
       "\\item 59\n",
       "\\item 60\n",
       "\\item 61\n",
       "\\item 62\n",
       "\\item 63\n",
       "\\item 64\n",
       "\\item 65\n",
       "\\item 66\n",
       "\\item 67\n",
       "\\item 68\n",
       "\\item 69\n",
       "\\item 70\n",
       "\\item 71\n",
       "\\item 72\n",
       "\\item 73\n",
       "\\item 74\n",
       "\\item 75\n",
       "\\item 76\n",
       "\\item 77\n",
       "\\item 78\n",
       "\\item 79\n",
       "\\item 80\n",
       "\\item 81\n",
       "\\item 82\n",
       "\\item 83\n",
       "\\item 84\n",
       "\\item 85\n",
       "\\item 86\n",
       "\\item 87\n",
       "\\item 88\n",
       "\\item 89\n",
       "\\item 90\n",
       "\\end{enumerate*}\n"
      ],
      "text/markdown": [
       "1. 2\n",
       "2. 3\n",
       "3. 4\n",
       "4. 5\n",
       "5. 6\n",
       "6. 7\n",
       "7. 8\n",
       "8. 9\n",
       "9. 10\n",
       "10. 11\n",
       "11. 12\n",
       "12. 13\n",
       "13. 14\n",
       "14. 15\n",
       "15. 16\n",
       "16. 17\n",
       "17. 18\n",
       "18. 19\n",
       "19. 20\n",
       "20. 21\n",
       "21. 22\n",
       "22. 23\n",
       "23. 24\n",
       "24. 25\n",
       "25. 26\n",
       "26. 27\n",
       "27. 28\n",
       "28. 29\n",
       "29. 30\n",
       "30. 31\n",
       "31. 32\n",
       "32. 33\n",
       "33. 34\n",
       "34. 35\n",
       "35. 36\n",
       "36. 37\n",
       "37. 38\n",
       "38. 39\n",
       "39. 40\n",
       "40. 41\n",
       "41. 42\n",
       "42. 43\n",
       "43. 44\n",
       "44. 45\n",
       "45. 46\n",
       "46. 47\n",
       "47. 48\n",
       "48. 49\n",
       "49. 50\n",
       "50. 51\n",
       "51. 52\n",
       "52. 53\n",
       "53. 54\n",
       "54. 55\n",
       "55. 56\n",
       "56. 57\n",
       "57. 58\n",
       "58. 59\n",
       "59. 60\n",
       "60. 61\n",
       "61. 62\n",
       "62. 63\n",
       "63. 64\n",
       "64. 65\n",
       "65. 66\n",
       "66. 67\n",
       "67. 68\n",
       "68. 69\n",
       "69. 70\n",
       "70. 71\n",
       "71. 72\n",
       "72. 73\n",
       "73. 74\n",
       "74. 75\n",
       "75. 76\n",
       "76. 77\n",
       "77. 78\n",
       "78. 79\n",
       "79. 80\n",
       "80. 81\n",
       "81. 82\n",
       "82. 83\n",
       "83. 84\n",
       "84. 85\n",
       "85. 86\n",
       "86. 87\n",
       "87. 88\n",
       "88. 89\n",
       "89. 90\n",
       "\n",
       "\n"
      ],
      "text/plain": [
       " [1]  2  3  4  5  6  7  8  9 10 11 12 13 14 15 16 17 18 19 20 21 22 23 24 25 26\n",
       "[26] 27 28 29 30 31 32 33 34 35 36 37 38 39 40 41 42 43 44 45 46 47 48 49 50 51\n",
       "[51] 52 53 54 55 56 57 58 59 60 61 62 63 64 65 66 67 68 69 70 71 72 73 74 75 76\n",
       "[76] 77 78 79 80 81 82 83 84 85 86 87 88 89 90"
      ]
     },
     "metadata": {},
     "output_type": "display_data"
    }
   ],
   "source": [
    "y.dep = 1\n",
    "x.indep = c(2:length(testing_frame))\n",
    "\n",
    "# print\n",
    "y.dep\n",
    "x.indep"
   ]
  },
  {
   "cell_type": "markdown",
   "metadata": {},
   "source": [
    "h2o.deeplearning 함수 중 Loss function(= cost function) 은 Automatic 으로, Hidden layer는 32x16으로 세팅했다. 이를 그림으로 표현하면 다음과 같다.\n",
    "\n",
    "![fig_simple_nn_model](./figures/simple_nn_model.jpg)\n",
    "<center>[본 예제의 Neural Network 모델]</center>\n",
    "\n",
    "\n",
    "\n",
    "그리고 nfold 는 Training 시의 성능을 검증을 위해 K-Fold Cross Validation (교차검증) 방안을 사용하는 옵션이다. nfold = 5일 경우 Training dataset 을 5개 subsets 으로 다시 나누어 38500여개의 dataset 을 학습하고 나머지 9600여개 dataset으로 성능을 검증하는 프로세스를 5회 반복해 그 평균으로 모델의 일반적인 성능(General performance)을 검증한다. 마지막으로 epoch 옵션은 주어진 Training dataset 을 몇 회 학습할지에 관한 옵션이다. 그 외에도 다른 옵션 및 별도의 기능들에 관해서는 [4]에서 상세히 확인할 수 있다.\n",
    "\n",
    "![fig_5fold_cross_validation](./figures/5fold_cross_validation.jpg)\n",
    "<center>[5-Fold Cross Validation 의 학습 및 성능 평가 과정 (그림출처: http://blog.goldenhelix.com/goldenadmin/cross-validation-for-genomic-prediction-in-svs/)]</center>"
   ]
  },
  {
   "cell_type": "code",
   "execution_count": 10,
   "metadata": {
    "scrolled": true
   },
   "outputs": [
    {
     "name": "stdout",
     "output_type": "stream",
     "text": [
      "  |======================================================================| 100%\n",
      "  |======================================================================| 100%\n"
     ]
    }
   ],
   "source": [
    "# 모델 생성: tmodel (약 1~2분 소요. 개발 머신의 성능에 따라 다를 수 있음)\n",
    "tmodel = h2o.deeplearning(x = x.indep, y = y.dep, training_frame = training_frame, hidden = c(32,16), loss = \"Automatic\", nfolds = 5, epochs = 10)\n",
    "\n",
    "# testing_frame 내에서 실제 label 값과 모델 예측값과의 차이들을 비교한 성능 평가\n",
    "tperf = h2o.performance(tmodel, testing_frame)\n",
    "\n",
    "# 만들어진 모델(tmodel)에 학습에 사용되지 않았던 testing_frame (12,054 dataset)을 label 값을 제외하고 입력으로 넣었을 때 예측된 결과 값: tpredicted\n",
    "tpredicted = h2o.predict(tmodel, testing_frame)"
   ]
  },
  {
   "cell_type": "markdown",
   "metadata": {},
   "source": [
    "<hr/>\n",
    "## 4. 결과 값 분석\n",
    "  딥 러닝을 사용한 예측 모델이 만들어졌다. 다각도의 분석을 통해 개발 모델의 객관적인 성능을 평가하고 개선된 모델을 만들어보자. R에서 H2O 모델을 호출하면 다음의 정보들을 확인할 수 있다.\n",
    "  \n",
    "  해당 네트워크 모델은 89개의 입력 값으로부터 (32x16)의 Hidden layer를 거쳐 Linear output 을 학습시키며, Final energy/atom 예측을 목표로 하는 Regression 모델이다. Loss function 으로는 Quadratic loss가 선택되었으며, dropout은 0%, 그리고 mini-batch size가 1로서 매 레코드마다 학습으로 인한 업데이트가 발생했음을 알 수 있다.\n",
    "  \n",
    "  그외에는 [4] 에서 알 수 있듯이, Default Learning rate은 0.005, 가변 Learning rate 이 적용되어 있으며 원한다면 해당 옵션의 수정을 통해 다른 방식으로 학습시킬 수도 있다. 만일 딥 러닝을 제대로 공부하고자 한다면 각각의 옵션들이 어떠한 의미를 갖는지, 개발 모델에 적용하였을 때 결과에 어떻게 반영될지 상세히 알아보고 여러 번 테스트해 볼 필요가 있다. 본 예제에서 사용된 H2O 딥 러닝 패키지가 현재까지 제안 또는 개발된 모든 알고리즘을 전부 반영할 수는 없지만, 직접 개발할 필요 없이 단순한 옵션 변경만으로 다양한 방식의 학습 방법을 적용해 볼 수 있는 것은 분명 매력적이다. 그리고 variable_imporatnce 옵션을 사용한다면 학습 시간은 조금 더 소요되지만 입력 값들 중 어떤 Feature 들이 예측 값 형성에 크게 기여했는지를 쉽게 확인할 수 있다. 해당 내용은 다음 실험에서 확인할 수 있다.\n",
    "  \n",
    "  데이터 샘플링 결과에 따라 다소 차이가 있을 수 있지만, 이번에 만들어진 모델은 학습 시 MAE (Mean Absolute Error)는 0.351, 5-fold CV 의 평균 MAE는 0.392로 나타났다. 이 성능 지표들은 모두 전체 dataset 중 학습에 사용되는 80%의 데이터에 관한 결과이다. 학습에 사용되지 않았던 20%의 데이터를 가지고 만들어진 모델에 적용해보면 새로운 예측 값들을 얻을 수 있고(tpredicted), 이에 대한 성능 평가는 h2o.performance() 함수를 통해 쉽게 얻을 수 있다(tperf). 아래의 결과를 통해 개발 모델의 객관적인 성능이 MAE 0.375 정도의 수준을 나타냄을 알 수 있다."
   ]
  },
  {
   "cell_type": "code",
   "execution_count": 11,
   "metadata": {},
   "outputs": [
    {
     "data": {
      "text/plain": [
       "Model Details:\n",
       "==============\n",
       "\n",
       "H2ORegressionModel: deeplearning\n",
       "Model ID:  DeepLearning_model_R_1513582449475_2 \n",
       "Status of Neuron Layers: predicting finalenergyperatom, regression, gaussian distribution, Quadratic loss, 3,425 weights/biases, 52.2 KB, 551,190 training samples, mini-batch size 1\n",
       "  layer units      type dropout       l1       l2 mean_rate rate_rms momentum\n",
       "1     1    89     Input  0.00 %                                              \n",
       "2     2    32 Rectifier  0.00 % 0.000000 0.000000  0.113652 0.149532 0.000000\n",
       "3     3    16 Rectifier  0.00 % 0.000000 0.000000  0.021979 0.026959 0.000000\n",
       "4     4     1    Linear         0.000000 0.000000  0.002236 0.001945 0.000000\n",
       "  mean_weight weight_rms mean_bias bias_rms\n",
       "1                                          \n",
       "2   -0.008896   0.196383  0.372330 0.289995\n",
       "3   -0.064236   0.201006  0.952114 0.141272\n",
       "4    0.005328   0.172578  0.067065 0.000000\n",
       "\n",
       "\n",
       "H2ORegressionMetrics: deeplearning\n",
       "** Reported on training data. **\n",
       "** Metrics reported on temporary training frame with 10028 samples **\n",
       "\n",
       "MSE:  16.15926\n",
       "RMSE:  4.019858\n",
       "MAE:  0.3513378\n",
       "RMSLE:  NaN\n",
       "Mean Residual Deviance :  16.15926\n",
       "\n",
       "\n",
       "\n",
       "H2ORegressionMetrics: deeplearning\n",
       "** Reported on cross-validation data. **\n",
       "** 5-fold cross-validation on training data (Metrics computed for combined holdout predictions) **\n",
       "\n",
       "MSE:  36.41615\n",
       "RMSE:  6.03458\n",
       "MAE:  0.3928688\n",
       "RMSLE:  NaN\n",
       "Mean Residual Deviance :  36.41615\n",
       "\n",
       "\n",
       "Cross-Validation Metrics Summary: \n",
       "                             mean         sd cv_1_valid cv_2_valid cv_3_valid\n",
       "mae                     0.3931055 0.03836118 0.39996555 0.35138765  0.3637675\n",
       "mean_residual_deviance  36.730076  40.494373  17.041864  1.5692635  13.381456\n",
       "mse                     36.730076  40.494373  17.041864  1.5692635  13.381456\n",
       "r2                     0.36472762 0.20908494 0.16335966 0.68396515  0.2009439\n",
       "residual_deviance       36.730076  40.494373  17.041864  1.5692635  13.381456\n",
       "rmse                    4.4708242  2.8932514   4.128179  1.2527025  3.6580672\n",
       "rmsle                         0.0        NaN        NaN        NaN        NaN\n",
       "                        cv_4_valid cv_5_valid\n",
       "mae                     0.49593917 0.35446763\n",
       "mean_residual_deviance   150.56657  1.0912211\n",
       "mse                      150.56657  1.0912211\n",
       "r2                     0.022428427   0.752941\n",
       "residual_deviance        150.56657  1.0912211\n",
       "rmse                     12.270557  1.0446153\n",
       "rmsle                          NaN        NaN"
      ]
     },
     "metadata": {},
     "output_type": "display_data"
    },
    {
     "data": {
      "text/plain": [
       "H2ORegressionMetrics: deeplearning\n",
       "\n",
       "MSE:  12.15502\n",
       "RMSE:  3.486404\n",
       "MAE:  0.3752038\n",
       "RMSLE:  NaN\n",
       "Mean Residual Deviance :  12.15502\n"
      ]
     },
     "metadata": {},
     "output_type": "display_data"
    }
   ],
   "source": [
    "tmodel\n",
    "tperf"
   ]
  },
  {
   "cell_type": "markdown",
   "metadata": {},
   "source": [
    "<hr/>H2O는 Training Score 에 따른 손쉬운 그래프를 제공한다. Overfitting이 되지 않도록 주의하면서 더 깊고/넓은 모델로, 또는 Learning rate 등을 조절해보며 최적의 값을 찾아내는 Parameter Optimization 과정을 통해 더욱 더 정교한 모델을 만들어 볼 수 있다."
   ]
  },
  {
   "cell_type": "code",
   "execution_count": 12,
   "metadata": {},
   "outputs": [
    {
     "data": {
      "image/png": "[encoded data removed]",
      "text/plain": [
       "Plot with title “Training Scoring History”"
      ]
     },
     "metadata": {},
     "output_type": "display_data"
    }
   ],
   "source": [
    "plot(tmodel,metric='mae')"
   ]
  },
  {
   "cell_type": "markdown",
   "metadata": {},
   "source": [
    "<hr/>다음은 Prediction-error-plotting을 사용하여 예측 값 vs. 실제값의 가시화를 통한 분석이다. 그래프의 x축은 실제 Label 값(Actual final energy/atom)이고 y축은 개발된 모델이 생성해낸 예측값(Predicted final energy/atom)이다. Testing_frame 12,054 개의 데이터 중 대부분의 값들이 실제값과 예측값이 일치하는 실선 근처에 위치한다. 하지만 몇몇 값들은 오차가 매우 크고, 오차들 중 대부분은 예측치 대비 실제값이 현저하게 큰 경우가 대다수이다. 즉, 데이터 자체에 일상적인 분포를 벗어난 매우 큰 값(Outliers)들이 존재한다는 것이다."
   ]
  },
  {
   "cell_type": "code",
   "execution_count": 13,
   "metadata": {},
   "outputs": [
    {
     "data": {
      "image/png": "[encoded data removed]",
      "text/plain": [
       "plot without title"
      ]
     },
     "metadata": {},
     "output_type": "display_data"
    }
   ],
   "source": [
    "fepa <- as.data.frame(testing_frame[y.dep])\n",
    "fepa<- as.data.frame(fepa)\n",
    "forecast_y_t_hat = tpredicted\n",
    "forecast_y_t_hat <- as.data.frame(forecast_y_t_hat)\n",
    "\n",
    "\n",
    "names(fepa)[1] <- c(\"Actual E/atom \")\n",
    "names(forecast_y_t_hat) <-c(\"Predicted E/atom\")\n",
    "\n",
    "vs <- cbind(fepa, forecast_y_t_hat)\n",
    "\n",
    "plot(vs)\n",
    "abline(a=0,b=1)"
   ]
  },
  {
   "cell_type": "markdown",
   "metadata": {},
   "source": [
    "<hr/>밀집 지역만을 조금 더 상세히 살펴보면, 예측 값이 실제 값과 어느정도는 잘 일치하고 있음을 볼 수 있다."
   ]
  },
  {
   "cell_type": "code",
   "execution_count": 14,
   "metadata": {},
   "outputs": [
    {
     "data": {
      "image/png": "[encoded data removed]",
      "text/plain": [
       "plot without title"
      ]
     },
     "metadata": {},
     "output_type": "display_data"
    }
   ],
   "source": [
    "plot(vs, ylim=c(-15, 3), xlim=c(-15,3))\n",
    "abline(a=0,b=1)"
   ]
  },
  {
   "cell_type": "markdown",
   "metadata": {},
   "source": [
    "<hr/>\n",
    "### 일반적으로 개발 모델의 성능을 높이려면, \n",
    "\n",
    "1. 더 많은 데이터를 학습하거나 (Quantity Control),\n",
    "\n",
    "2. 데이터의 수준을 높게 유지하거나 (Quality Control),\n",
    "\n",
    "3. 예측에 영향을 많이 줄 수 있는 강력한 Features 또는 그 조합을 추가하거나 (Feature Engineering),\n",
    "\n",
    "4. 최적화된 학습 파라미터를 찾거나 (Parameter Optimizing),\n",
    "\n",
    "5. 또는 유사한 성질을 갖는 데이터를 분리하여 높은 수준의 특화된 모델 (Filtering)을 개발,\n",
    "\n",
    "하는 등의 방안들을 적용해 볼 수 있다. 현재 사용된 입력 데이터는 Ac ~ Zr 까지의 단순한 Formula Information 만을 사용했다. 이를 더 확장하여, Spacegroup, Structural Information, Stoichiometric values, Max and Min values, 그리고 Electronic structure values 등의 다양화된 입력을 추가한다면 어떨까? 혹은 소재의 특성을 잘 표현할 수 있는 새로운 Descriptor등을 적용하여 데이터를 구성하면 어떨까? 이와 같은 Feature Engineering 에 관한 문제는 다음 번 예제에서 상세히 다루고자 한다.\n",
    "\n",
    "그리고 지금껏 현재 우리가 가지고 있는 데이터의 일부분만을 가지고 모델을 개발했다. 만일 더 많은 데이터를 사용한다면 어떤 결과를 얻을 수 있을까? 어느 정도의 데이터 양이 딥 러닝 방법에 적절한 수준일까? 사실 상 이러한 질문들의 정답은 없다. 하지만 예제의 마지막 과정으로, 데이터 양이 증가했을 때 이전 모델과의 성능의 차이가 어떻게 되는지 직접 확인해보자. 그리고 만들어진 모델을 파일로 저장하고 필요시 이를 다시 불러와서 웹에 배포하고, 서비스하는 예제에 대하여 다루어본다.\n",
    "\n",
    "![fig_why_deep_learning](./figures/whydeeplearning.jpg)\n",
    "<center>[참고: 딥 러닝 성능과 데이터 양의 관계] (그림출처: Andrew Ng, Lecture Note on CS229 Machine Learning, Stanford Univ.</center>"
   ]
  },
  {
   "cell_type": "code",
   "execution_count": 15,
   "metadata": {
    "collapsed": true
   },
   "outputs": [],
   "source": [
    "# 전체 data 중 training에 80%, testing에 20%에 사용.\n",
    "seperatingRate = 0.8\n",
    "# 이번에는 데이터 전부를 사용함\n",
    "maxSizeRate = 1\n",
    "\n",
    "# down scaling\n",
    "seperatingValue=0\n",
    "seperatingValue = floor(nrow(all_data)*maxSizeRate*seperatingRate)\n",
    "\n",
    "set.seed(1234)\n",
    "all_data_reduced = all_data[sample(nrow(all_data)*maxSizeRate), ]\n",
    "train_data_full = all_data_reduced[1:seperatingValue, ]\n",
    "test_data_full = all_data_reduced[(seperatingValue+1):nrow(all_data_reduced), ]"
   ]
  },
  {
   "cell_type": "code",
   "execution_count": 16,
   "metadata": {},
   "outputs": [
    {
     "data": {
      "text/html": [
       "96434"
      ],
      "text/latex": [
       "96434"
      ],
      "text/markdown": [
       "96434"
      ],
      "text/plain": [
       "[1] 96434"
      ]
     },
     "metadata": {},
     "output_type": "display_data"
    },
    {
     "data": {
      "text/html": [
       "24109"
      ],
      "text/latex": [
       "24109"
      ],
      "text/markdown": [
       "24109"
      ],
      "text/plain": [
       "[1] 24109"
      ]
     },
     "metadata": {},
     "output_type": "display_data"
    }
   ],
   "source": [
    "nrow(train_data_full)\n",
    "nrow(test_data_full)"
   ]
  },
  {
   "cell_type": "code",
   "execution_count": 17,
   "metadata": {},
   "outputs": [
    {
     "name": "stdout",
     "output_type": "stream",
     "text": [
      "  |======================================================================| 100%\n",
      "  |======================================================================| 100%\n",
      "  |======================================================================| 100%\n",
      "  |======================================================================| 100%\n"
     ]
    }
   ],
   "source": [
    "training_frame_full = as.h2o(train_data_full)\n",
    "testing_frame_full = as.h2o(test_data_full)\n",
    "\n",
    "tmodel_full = h2o.deeplearning(x = x.indep, y = y.dep, training_frame = training_frame_full, hidden = c(32,16), loss = \"Automatic\", nfolds = 5, epochs = 10, variable_importance = TRUE)\n",
    "\n",
    "tpredicted_full = h2o.predict(tmodel_full, testing_frame_full)\n",
    "tperf_full = h2o.performance(tmodel_full, testing_frame_full)"
   ]
  },
  {
   "cell_type": "code",
   "execution_count": 18,
   "metadata": {},
   "outputs": [
    {
     "data": {
      "text/plain": [
       "Model Details:\n",
       "==============\n",
       "\n",
       "H2ORegressionModel: deeplearning\n",
       "Model ID:  DeepLearning_model_R_1513582449475_3 \n",
       "Status of Neuron Layers: predicting finalenergyperatom, regression, gaussian distribution, Quadratic loss, 3,425 weights/biases, 52.2 KB, 1,028,900 training samples, mini-batch size 1\n",
       "  layer units      type dropout       l1       l2 mean_rate rate_rms momentum\n",
       "1     1    89     Input  0.00 %                                              \n",
       "2     2    32 Rectifier  0.00 % 0.000000 0.000000  0.041424 0.118352 0.000000\n",
       "3     3    16 Rectifier  0.00 % 0.000000 0.000000  0.007182 0.008921 0.000000\n",
       "4     4     1    Linear         0.000000 0.000000  0.000366 0.000391 0.000000\n",
       "  mean_weight weight_rms mean_bias bias_rms\n",
       "1                                          \n",
       "2   -0.003729   0.247011  0.313794 0.398605\n",
       "3   -0.059213   0.212117  1.073159 0.155345\n",
       "4   -0.012828   0.190004 -0.106373 0.000000\n",
       "\n",
       "\n",
       "H2ORegressionMetrics: deeplearning\n",
       "** Reported on training data. **\n",
       "** Metrics reported on temporary training frame with 9990 samples **\n",
       "\n",
       "MSE:  1.117148\n",
       "RMSE:  1.056952\n",
       "MAE:  0.2646053\n",
       "RMSLE:  NaN\n",
       "Mean Residual Deviance :  1.117148\n",
       "\n",
       "\n",
       "\n",
       "H2ORegressionMetrics: deeplearning\n",
       "** Reported on cross-validation data. **\n",
       "** 5-fold cross-validation on training data (Metrics computed for combined holdout predictions) **\n",
       "\n",
       "MSE:  6.395593\n",
       "RMSE:  2.528951\n",
       "MAE:  0.2972267\n",
       "RMSLE:  NaN\n",
       "Mean Residual Deviance :  6.395593\n",
       "\n",
       "\n",
       "Cross-Validation Metrics Summary: \n",
       "                             mean           sd cv_1_valid cv_2_valid cv_3_valid\n",
       "mae                    0.29726365 0.0069285994 0.29373127  0.3070416  0.3059826\n",
       "mean_residual_deviance  6.4081063    1.7507839   6.551776   9.190704   8.886008\n",
       "mse                     6.4081063    1.7507839   6.551776   9.190704   8.886008\n",
       "r2                     0.37581578  0.078491874  0.3419857  0.2711257  0.2742999\n",
       "residual_deviance       6.4081063    1.7507839   6.551776   9.190704   8.886008\n",
       "rmse                    2.4767687   0.36994812  2.5596437  3.0316174  2.9809408\n",
       "rmsle                         0.0          NaN        NaN        NaN        NaN\n",
       "                       cv_4_valid cv_5_valid\n",
       "mae                    0.29937264 0.28019023\n",
       "mean_residual_deviance  4.7419806  2.6700613\n",
       "mse                     4.7419806  2.6700613\n",
       "r2                     0.42375365   0.567914\n",
       "residual_deviance       4.7419806  2.6700613\n",
       "rmse                     2.177609  1.6340322\n",
       "rmsle                         NaN        NaN"
      ]
     },
     "metadata": {},
     "output_type": "display_data"
    },
    {
     "data": {
      "text/plain": [
       "H2ORegressionMetrics: deeplearning\n",
       "\n",
       "MSE:  56.89783\n",
       "RMSE:  7.543065\n",
       "MAE:  0.3196994\n",
       "RMSLE:  NaN\n",
       "Mean Residual Deviance :  56.89783\n"
      ]
     },
     "metadata": {},
     "output_type": "display_data"
    }
   ],
   "source": [
    "tmodel_full\n",
    "tperf_full"
   ]
  },
  {
   "cell_type": "code",
   "execution_count": 19,
   "metadata": {},
   "outputs": [
    {
     "data": {
      "image/png": "[encoded data removed]",
      "text/plain": [
       "Plot with title “Training Scoring History”"
      ]
     },
     "metadata": {},
     "output_type": "display_data"
    }
   ],
   "source": [
    "plot(tmodel_full,metric='mae')"
   ]
  },
  {
   "cell_type": "code",
   "execution_count": 20,
   "metadata": {},
   "outputs": [
    {
     "data": {
      "image/png": "[encoded data removed]",
      "text/plain": [
       "plot without title"
      ]
     },
     "metadata": {},
     "output_type": "display_data"
    }
   ],
   "source": [
    "fepa_full <- as.data.frame(testing_frame_full[y.dep])\n",
    "fepa_full<- as.data.frame(fepa_full)\n",
    "forecast_y_t_hat_full = tpredicted_full\n",
    "forecast_y_t_hat_full <- as.data.frame(forecast_y_t_hat_full)\n",
    "\n",
    "\n",
    "names(fepa_full)[1] <- c(\"Actual E/atom\")\n",
    "names(forecast_y_t_hat_full) <-c(\"Predicted E/atom\")\n",
    "\n",
    "vs_full <- cbind(fepa_full, forecast_y_t_hat_full)\n",
    "\n",
    "plot(vs_full, ylim=c(-15, 3), xlim=c(-15,3))\n",
    "abline(a=0,b=1)"
   ]
  },
  {
   "cell_type": "code",
   "execution_count": 21,
   "metadata": {
    "scrolled": true
   },
   "outputs": [
    {
     "data": {
      "text/html": [
       "<table>\n",
       "<thead><tr><th scope=col>variable</th><th scope=col>relative_importance</th><th scope=col>scaled_importance</th><th scope=col>percentage</th></tr></thead>\n",
       "<tbody>\n",
       "\t<tr><td>O         </td><td>1.0000000 </td><td>1.0000000 </td><td>0.05801652</td></tr>\n",
       "\t<tr><td>Mg        </td><td>0.8785434 </td><td>0.8785434 </td><td>0.05097004</td></tr>\n",
       "\t<tr><td>F         </td><td>0.4216295 </td><td>0.4216295 </td><td>0.02446148</td></tr>\n",
       "\t<tr><td>S         </td><td>0.3507623 </td><td>0.3507623 </td><td>0.02035001</td></tr>\n",
       "\t<tr><td>Ti        </td><td>0.2983111 </td><td>0.2983111 </td><td>0.01730697</td></tr>\n",
       "\t<tr><td>Xe        </td><td>0.2965660 </td><td>0.2965660 </td><td>0.01720573</td></tr>\n",
       "\t<tr><td>Zr        </td><td>0.2881474 </td><td>0.2881474 </td><td>0.01671731</td></tr>\n",
       "\t<tr><td>Cl        </td><td>0.2853204 </td><td>0.2853204 </td><td>0.01655330</td></tr>\n",
       "\t<tr><td>Ne        </td><td>0.2844113 </td><td>0.2844113 </td><td>0.01650056</td></tr>\n",
       "\t<tr><td>Kr        </td><td>0.2807019 </td><td>0.2807019 </td><td>0.01628535</td></tr>\n",
       "\t<tr><td>Li        </td><td>0.2748261 </td><td>0.2748261 </td><td>0.01594446</td></tr>\n",
       "\t<tr><td>Ar        </td><td>0.2717662 </td><td>0.2717662 </td><td>0.01576693</td></tr>\n",
       "\t<tr><td>Se        </td><td>0.2499254 </td><td>0.2499254 </td><td>0.01449980</td></tr>\n",
       "\t<tr><td>He        </td><td>0.2462550 </td><td>0.2462550 </td><td>0.01428686</td></tr>\n",
       "\t<tr><td>Zn        </td><td>0.2462472 </td><td>0.2462472 </td><td>0.01428640</td></tr>\n",
       "\t<tr><td>H         </td><td>0.2343498 </td><td>0.2343498 </td><td>0.01359616</td></tr>\n",
       "\t<tr><td>B         </td><td>0.2297696 </td><td>0.2297696 </td><td>0.01333044</td></tr>\n",
       "\t<tr><td>P         </td><td>0.2296769 </td><td>0.2296769 </td><td>0.01332505</td></tr>\n",
       "\t<tr><td>Ni        </td><td>0.2296088 </td><td>0.2296088 </td><td>0.01332111</td></tr>\n",
       "\t<tr><td>N         </td><td>0.2292451 </td><td>0.2292451 </td><td>0.01330001</td></tr>\n",
       "\t<tr><td>I         </td><td>0.2228118 </td><td>0.2228118 </td><td>0.01292676</td></tr>\n",
       "\t<tr><td>Ta        </td><td>0.2179675 </td><td>0.2179675 </td><td>0.01264572</td></tr>\n",
       "\t<tr><td>K         </td><td>0.2118863 </td><td>0.2118863 </td><td>0.01229291</td></tr>\n",
       "\t<tr><td>Hf        </td><td>0.2097834 </td><td>0.2097834 </td><td>0.01217090</td></tr>\n",
       "\t<tr><td>Br        </td><td>0.2058675 </td><td>0.2058675 </td><td>0.01194372</td></tr>\n",
       "\t<tr><td>Na        </td><td>0.2051670 </td><td>0.2051670 </td><td>0.01190308</td></tr>\n",
       "\t<tr><td>La        </td><td>0.2047763 </td><td>0.2047763 </td><td>0.01188041</td></tr>\n",
       "\t<tr><td>Al        </td><td>0.2045852 </td><td>0.2045852 </td><td>0.01186932</td></tr>\n",
       "\t<tr><td>As        </td><td>0.2018046 </td><td>0.2018046 </td><td>0.01170800</td></tr>\n",
       "\t<tr><td>Te        </td><td>0.2009340 </td><td>0.2009340 </td><td>0.01165749</td></tr>\n",
       "\t<tr><td>⋮</td><td>⋮</td><td>⋮</td><td>⋮</td></tr>\n",
       "\t<tr><td>Cu         </td><td>0.13832083 </td><td>0.13832083 </td><td>0.008024894</td></tr>\n",
       "\t<tr><td>Os         </td><td>0.13781153 </td><td>0.13781153 </td><td>0.007995346</td></tr>\n",
       "\t<tr><td>Pt         </td><td>0.13758828 </td><td>0.13758828 </td><td>0.007982394</td></tr>\n",
       "\t<tr><td>Bi         </td><td>0.13637309 </td><td>0.13637309 </td><td>0.007911893</td></tr>\n",
       "\t<tr><td>Ac         </td><td>0.13580506 </td><td>0.13580506 </td><td>0.007878937</td></tr>\n",
       "\t<tr><td>Gd         </td><td>0.13557006 </td><td>0.13557006 </td><td>0.007865304</td></tr>\n",
       "\t<tr><td>Ga         </td><td>0.13389157 </td><td>0.13389157 </td><td>0.007767923</td></tr>\n",
       "\t<tr><td>Be         </td><td>0.13132329 </td><td>0.13132329 </td><td>0.007618921</td></tr>\n",
       "\t<tr><td>Dy         </td><td>0.13001299 </td><td>0.13001299 </td><td>0.007542902</td></tr>\n",
       "\t<tr><td>Pa         </td><td>0.12862299 </td><td>0.12862299 </td><td>0.007462259</td></tr>\n",
       "\t<tr><td>Er         </td><td>0.12839159 </td><td>0.12839159 </td><td>0.007448834</td></tr>\n",
       "\t<tr><td>Cd         </td><td>0.12603630 </td><td>0.12603630 </td><td>0.007312188</td></tr>\n",
       "\t<tr><td>Ru         </td><td>0.12552567 </td><td>0.12552567 </td><td>0.007282563</td></tr>\n",
       "\t<tr><td>Ir         </td><td>0.12267160 </td><td>0.12267160 </td><td>0.007116980</td></tr>\n",
       "\t<tr><td>Re         </td><td>0.12171375 </td><td>0.12171375 </td><td>0.007061409</td></tr>\n",
       "\t<tr><td>In         </td><td>0.12014631 </td><td>0.12014631 </td><td>0.006970471</td></tr>\n",
       "\t<tr><td>Eu         </td><td>0.11908540 </td><td>0.11908540 </td><td>0.006908921</td></tr>\n",
       "\t<tr><td>Ho         </td><td>0.11780356 </td><td>0.11780356 </td><td>0.006834553</td></tr>\n",
       "\t<tr><td>Ag         </td><td>0.11778830 </td><td>0.11778830 </td><td>0.006833668</td></tr>\n",
       "\t<tr><td>Np         </td><td>0.11775829 </td><td>0.11775829 </td><td>0.006831927</td></tr>\n",
       "\t<tr><td>Pm         </td><td>0.11687981 </td><td>0.11687981 </td><td>0.006780961</td></tr>\n",
       "\t<tr><td>Tb         </td><td>0.11632174 </td><td>0.11632174 </td><td>0.006748583</td></tr>\n",
       "\t<tr><td>Th         </td><td>0.11568298 </td><td>0.11568298 </td><td>0.006711525</td></tr>\n",
       "\t<tr><td>Lu         </td><td>0.11472994 </td><td>0.11472994 </td><td>0.006656232</td></tr>\n",
       "\t<tr><td>Pd         </td><td>0.10934751 </td><td>0.10934751 </td><td>0.006343962</td></tr>\n",
       "\t<tr><td>Pb         </td><td>0.10916442 </td><td>0.10916442 </td><td>0.006333341</td></tr>\n",
       "\t<tr><td>Tm         </td><td>0.10865256 </td><td>0.10865256 </td><td>0.006303644</td></tr>\n",
       "\t<tr><td>Au         </td><td>0.10649052 </td><td>0.10649052 </td><td>0.006178210</td></tr>\n",
       "\t<tr><td>Rh         </td><td>0.09111237 </td><td>0.09111237 </td><td>0.005286023</td></tr>\n",
       "\t<tr><td>Tc         </td><td>0.08528124 </td><td>0.08528124 </td><td>0.004947721</td></tr>\n",
       "</tbody>\n",
       "</table>\n"
      ],
      "text/latex": [
       "\\begin{tabular}{r|llll}\n",
       " variable & relative\\_importance & scaled\\_importance & percentage\\\\\n",
       "\\hline\n",
       "\t O          & 1.0000000  & 1.0000000  & 0.05801652\\\\\n",
       "\t Mg         & 0.8785434  & 0.8785434  & 0.05097004\\\\\n",
       "\t F          & 0.4216295  & 0.4216295  & 0.02446148\\\\\n",
       "\t S          & 0.3507623  & 0.3507623  & 0.02035001\\\\\n",
       "\t Ti         & 0.2983111  & 0.2983111  & 0.01730697\\\\\n",
       "\t Xe         & 0.2965660  & 0.2965660  & 0.01720573\\\\\n",
       "\t Zr         & 0.2881474  & 0.2881474  & 0.01671731\\\\\n",
       "\t Cl         & 0.2853204  & 0.2853204  & 0.01655330\\\\\n",
       "\t Ne         & 0.2844113  & 0.2844113  & 0.01650056\\\\\n",
       "\t Kr         & 0.2807019  & 0.2807019  & 0.01628535\\\\\n",
       "\t Li         & 0.2748261  & 0.2748261  & 0.01594446\\\\\n",
       "\t Ar         & 0.2717662  & 0.2717662  & 0.01576693\\\\\n",
       "\t Se         & 0.2499254  & 0.2499254  & 0.01449980\\\\\n",
       "\t He         & 0.2462550  & 0.2462550  & 0.01428686\\\\\n",
       "\t Zn         & 0.2462472  & 0.2462472  & 0.01428640\\\\\n",
       "\t H          & 0.2343498  & 0.2343498  & 0.01359616\\\\\n",
       "\t B          & 0.2297696  & 0.2297696  & 0.01333044\\\\\n",
       "\t P          & 0.2296769  & 0.2296769  & 0.01332505\\\\\n",
       "\t Ni         & 0.2296088  & 0.2296088  & 0.01332111\\\\\n",
       "\t N          & 0.2292451  & 0.2292451  & 0.01330001\\\\\n",
       "\t I          & 0.2228118  & 0.2228118  & 0.01292676\\\\\n",
       "\t Ta         & 0.2179675  & 0.2179675  & 0.01264572\\\\\n",
       "\t K          & 0.2118863  & 0.2118863  & 0.01229291\\\\\n",
       "\t Hf         & 0.2097834  & 0.2097834  & 0.01217090\\\\\n",
       "\t Br         & 0.2058675  & 0.2058675  & 0.01194372\\\\\n",
       "\t Na         & 0.2051670  & 0.2051670  & 0.01190308\\\\\n",
       "\t La         & 0.2047763  & 0.2047763  & 0.01188041\\\\\n",
       "\t Al         & 0.2045852  & 0.2045852  & 0.01186932\\\\\n",
       "\t As         & 0.2018046  & 0.2018046  & 0.01170800\\\\\n",
       "\t Te         & 0.2009340  & 0.2009340  & 0.01165749\\\\\n",
       "\t ⋮ & ⋮ & ⋮ & ⋮\\\\\n",
       "\t Cu          & 0.13832083  & 0.13832083  & 0.008024894\\\\\n",
       "\t Os          & 0.13781153  & 0.13781153  & 0.007995346\\\\\n",
       "\t Pt          & 0.13758828  & 0.13758828  & 0.007982394\\\\\n",
       "\t Bi          & 0.13637309  & 0.13637309  & 0.007911893\\\\\n",
       "\t Ac          & 0.13580506  & 0.13580506  & 0.007878937\\\\\n",
       "\t Gd          & 0.13557006  & 0.13557006  & 0.007865304\\\\\n",
       "\t Ga          & 0.13389157  & 0.13389157  & 0.007767923\\\\\n",
       "\t Be          & 0.13132329  & 0.13132329  & 0.007618921\\\\\n",
       "\t Dy          & 0.13001299  & 0.13001299  & 0.007542902\\\\\n",
       "\t Pa          & 0.12862299  & 0.12862299  & 0.007462259\\\\\n",
       "\t Er          & 0.12839159  & 0.12839159  & 0.007448834\\\\\n",
       "\t Cd          & 0.12603630  & 0.12603630  & 0.007312188\\\\\n",
       "\t Ru          & 0.12552567  & 0.12552567  & 0.007282563\\\\\n",
       "\t Ir          & 0.12267160  & 0.12267160  & 0.007116980\\\\\n",
       "\t Re          & 0.12171375  & 0.12171375  & 0.007061409\\\\\n",
       "\t In          & 0.12014631  & 0.12014631  & 0.006970471\\\\\n",
       "\t Eu          & 0.11908540  & 0.11908540  & 0.006908921\\\\\n",
       "\t Ho          & 0.11780356  & 0.11780356  & 0.006834553\\\\\n",
       "\t Ag          & 0.11778830  & 0.11778830  & 0.006833668\\\\\n",
       "\t Np          & 0.11775829  & 0.11775829  & 0.006831927\\\\\n",
       "\t Pm          & 0.11687981  & 0.11687981  & 0.006780961\\\\\n",
       "\t Tb          & 0.11632174  & 0.11632174  & 0.006748583\\\\\n",
       "\t Th          & 0.11568298  & 0.11568298  & 0.006711525\\\\\n",
       "\t Lu          & 0.11472994  & 0.11472994  & 0.006656232\\\\\n",
       "\t Pd          & 0.10934751  & 0.10934751  & 0.006343962\\\\\n",
       "\t Pb          & 0.10916442  & 0.10916442  & 0.006333341\\\\\n",
       "\t Tm          & 0.10865256  & 0.10865256  & 0.006303644\\\\\n",
       "\t Au          & 0.10649052  & 0.10649052  & 0.006178210\\\\\n",
       "\t Rh          & 0.09111237  & 0.09111237  & 0.005286023\\\\\n",
       "\t Tc          & 0.08528124  & 0.08528124  & 0.004947721\\\\\n",
       "\\end{tabular}\n"
      ],
      "text/markdown": [
       "\n",
       "variable | relative_importance | scaled_importance | percentage | \n",
       "|---|---|---|---|---|---|---|---|---|---|---|---|---|---|---|---|---|---|---|---|---|---|---|---|---|---|---|---|---|---|---|---|---|---|---|---|---|---|---|---|---|---|---|---|---|---|---|---|---|---|---|---|---|---|---|---|---|---|---|---|---|\n",
       "| O          | 1.0000000  | 1.0000000  | 0.05801652 | \n",
       "| Mg         | 0.8785434  | 0.8785434  | 0.05097004 | \n",
       "| F          | 0.4216295  | 0.4216295  | 0.02446148 | \n",
       "| S          | 0.3507623  | 0.3507623  | 0.02035001 | \n",
       "| Ti         | 0.2983111  | 0.2983111  | 0.01730697 | \n",
       "| Xe         | 0.2965660  | 0.2965660  | 0.01720573 | \n",
       "| Zr         | 0.2881474  | 0.2881474  | 0.01671731 | \n",
       "| Cl         | 0.2853204  | 0.2853204  | 0.01655330 | \n",
       "| Ne         | 0.2844113  | 0.2844113  | 0.01650056 | \n",
       "| Kr         | 0.2807019  | 0.2807019  | 0.01628535 | \n",
       "| Li         | 0.2748261  | 0.2748261  | 0.01594446 | \n",
       "| Ar         | 0.2717662  | 0.2717662  | 0.01576693 | \n",
       "| Se         | 0.2499254  | 0.2499254  | 0.01449980 | \n",
       "| He         | 0.2462550  | 0.2462550  | 0.01428686 | \n",
       "| Zn         | 0.2462472  | 0.2462472  | 0.01428640 | \n",
       "| H          | 0.2343498  | 0.2343498  | 0.01359616 | \n",
       "| B          | 0.2297696  | 0.2297696  | 0.01333044 | \n",
       "| P          | 0.2296769  | 0.2296769  | 0.01332505 | \n",
       "| Ni         | 0.2296088  | 0.2296088  | 0.01332111 | \n",
       "| N          | 0.2292451  | 0.2292451  | 0.01330001 | \n",
       "| I          | 0.2228118  | 0.2228118  | 0.01292676 | \n",
       "| Ta         | 0.2179675  | 0.2179675  | 0.01264572 | \n",
       "| K          | 0.2118863  | 0.2118863  | 0.01229291 | \n",
       "| Hf         | 0.2097834  | 0.2097834  | 0.01217090 | \n",
       "| Br         | 0.2058675  | 0.2058675  | 0.01194372 | \n",
       "| Na         | 0.2051670  | 0.2051670  | 0.01190308 | \n",
       "| La         | 0.2047763  | 0.2047763  | 0.01188041 | \n",
       "| Al         | 0.2045852  | 0.2045852  | 0.01186932 | \n",
       "| As         | 0.2018046  | 0.2018046  | 0.01170800 | \n",
       "| Te         | 0.2009340  | 0.2009340  | 0.01165749 | \n",
       "| ⋮ | ⋮ | ⋮ | ⋮ | \n",
       "| Cu          | 0.13832083  | 0.13832083  | 0.008024894 | \n",
       "| Os          | 0.13781153  | 0.13781153  | 0.007995346 | \n",
       "| Pt          | 0.13758828  | 0.13758828  | 0.007982394 | \n",
       "| Bi          | 0.13637309  | 0.13637309  | 0.007911893 | \n",
       "| Ac          | 0.13580506  | 0.13580506  | 0.007878937 | \n",
       "| Gd          | 0.13557006  | 0.13557006  | 0.007865304 | \n",
       "| Ga          | 0.13389157  | 0.13389157  | 0.007767923 | \n",
       "| Be          | 0.13132329  | 0.13132329  | 0.007618921 | \n",
       "| Dy          | 0.13001299  | 0.13001299  | 0.007542902 | \n",
       "| Pa          | 0.12862299  | 0.12862299  | 0.007462259 | \n",
       "| Er          | 0.12839159  | 0.12839159  | 0.007448834 | \n",
       "| Cd          | 0.12603630  | 0.12603630  | 0.007312188 | \n",
       "| Ru          | 0.12552567  | 0.12552567  | 0.007282563 | \n",
       "| Ir          | 0.12267160  | 0.12267160  | 0.007116980 | \n",
       "| Re          | 0.12171375  | 0.12171375  | 0.007061409 | \n",
       "| In          | 0.12014631  | 0.12014631  | 0.006970471 | \n",
       "| Eu          | 0.11908540  | 0.11908540  | 0.006908921 | \n",
       "| Ho          | 0.11780356  | 0.11780356  | 0.006834553 | \n",
       "| Ag          | 0.11778830  | 0.11778830  | 0.006833668 | \n",
       "| Np          | 0.11775829  | 0.11775829  | 0.006831927 | \n",
       "| Pm          | 0.11687981  | 0.11687981  | 0.006780961 | \n",
       "| Tb          | 0.11632174  | 0.11632174  | 0.006748583 | \n",
       "| Th          | 0.11568298  | 0.11568298  | 0.006711525 | \n",
       "| Lu          | 0.11472994  | 0.11472994  | 0.006656232 | \n",
       "| Pd          | 0.10934751  | 0.10934751  | 0.006343962 | \n",
       "| Pb          | 0.10916442  | 0.10916442  | 0.006333341 | \n",
       "| Tm          | 0.10865256  | 0.10865256  | 0.006303644 | \n",
       "| Au          | 0.10649052  | 0.10649052  | 0.006178210 | \n",
       "| Rh          | 0.09111237  | 0.09111237  | 0.005286023 | \n",
       "| Tc          | 0.08528124  | 0.08528124  | 0.004947721 | \n",
       "\n",
       "\n"
      ],
      "text/plain": [
       "   variable relative_importance scaled_importance percentage \n",
       "1  O        1.0000000           1.0000000         0.05801652 \n",
       "2  Mg       0.8785434           0.8785434         0.05097004 \n",
       "3  F        0.4216295           0.4216295         0.02446148 \n",
       "4  S        0.3507623           0.3507623         0.02035001 \n",
       "5  Ti       0.2983111           0.2983111         0.01730697 \n",
       "6  Xe       0.2965660           0.2965660         0.01720573 \n",
       "7  Zr       0.2881474           0.2881474         0.01671731 \n",
       "8  Cl       0.2853204           0.2853204         0.01655330 \n",
       "9  Ne       0.2844113           0.2844113         0.01650056 \n",
       "10 Kr       0.2807019           0.2807019         0.01628535 \n",
       "11 Li       0.2748261           0.2748261         0.01594446 \n",
       "12 Ar       0.2717662           0.2717662         0.01576693 \n",
       "13 Se       0.2499254           0.2499254         0.01449980 \n",
       "14 He       0.2462550           0.2462550         0.01428686 \n",
       "15 Zn       0.2462472           0.2462472         0.01428640 \n",
       "16 H        0.2343498           0.2343498         0.01359616 \n",
       "17 B        0.2297696           0.2297696         0.01333044 \n",
       "18 P        0.2296769           0.2296769         0.01332505 \n",
       "19 Ni       0.2296088           0.2296088         0.01332111 \n",
       "20 N        0.2292451           0.2292451         0.01330001 \n",
       "21 I        0.2228118           0.2228118         0.01292676 \n",
       "22 Ta       0.2179675           0.2179675         0.01264572 \n",
       "23 K        0.2118863           0.2118863         0.01229291 \n",
       "24 Hf       0.2097834           0.2097834         0.01217090 \n",
       "25 Br       0.2058675           0.2058675         0.01194372 \n",
       "26 Na       0.2051670           0.2051670         0.01190308 \n",
       "27 La       0.2047763           0.2047763         0.01188041 \n",
       "28 Al       0.2045852           0.2045852         0.01186932 \n",
       "29 As       0.2018046           0.2018046         0.01170800 \n",
       "30 Te       0.2009340           0.2009340         0.01165749 \n",
       "⋮  ⋮        ⋮                   ⋮                 ⋮          \n",
       "60 Cu       0.13832083          0.13832083        0.008024894\n",
       "61 Os       0.13781153          0.13781153        0.007995346\n",
       "62 Pt       0.13758828          0.13758828        0.007982394\n",
       "63 Bi       0.13637309          0.13637309        0.007911893\n",
       "64 Ac       0.13580506          0.13580506        0.007878937\n",
       "65 Gd       0.13557006          0.13557006        0.007865304\n",
       "66 Ga       0.13389157          0.13389157        0.007767923\n",
       "67 Be       0.13132329          0.13132329        0.007618921\n",
       "68 Dy       0.13001299          0.13001299        0.007542902\n",
       "69 Pa       0.12862299          0.12862299        0.007462259\n",
       "70 Er       0.12839159          0.12839159        0.007448834\n",
       "71 Cd       0.12603630          0.12603630        0.007312188\n",
       "72 Ru       0.12552567          0.12552567        0.007282563\n",
       "73 Ir       0.12267160          0.12267160        0.007116980\n",
       "74 Re       0.12171375          0.12171375        0.007061409\n",
       "75 In       0.12014631          0.12014631        0.006970471\n",
       "76 Eu       0.11908540          0.11908540        0.006908921\n",
       "77 Ho       0.11780356          0.11780356        0.006834553\n",
       "78 Ag       0.11778830          0.11778830        0.006833668\n",
       "79 Np       0.11775829          0.11775829        0.006831927\n",
       "80 Pm       0.11687981          0.11687981        0.006780961\n",
       "81 Tb       0.11632174          0.11632174        0.006748583\n",
       "82 Th       0.11568298          0.11568298        0.006711525\n",
       "83 Lu       0.11472994          0.11472994        0.006656232\n",
       "84 Pd       0.10934751          0.10934751        0.006343962\n",
       "85 Pb       0.10916442          0.10916442        0.006333341\n",
       "86 Tm       0.10865256          0.10865256        0.006303644\n",
       "87 Au       0.10649052          0.10649052        0.006178210\n",
       "88 Rh       0.09111237          0.09111237        0.005286023\n",
       "89 Tc       0.08528124          0.08528124        0.004947721"
      ]
     },
     "metadata": {},
     "output_type": "display_data"
    }
   ],
   "source": [
    "h2o.varimp(tmodel_full)"
   ]
  },
  {
   "cell_type": "markdown",
   "metadata": {},
   "source": [
    "같은 파라미터 옵션이라 할지라도 데이터의 양의 증가에 따라 예측 모델의 성능이 향상(MAE:0.375 -> 0.319)되는 것을 확인할 수 있다. 또한 variable_importance 옵션을 사용해 어떤 Features이 결과 값 예측에 많은 영향력을 주었는지를 쉽게 확인해 볼 수 있다."
   ]
  },
  {
   "cell_type": "markdown",
   "metadata": {},
   "source": [
    "<hr/>\n",
    "### 모델 저장과 불러오기\n",
    "  H2O 패키지는 개발 모델의 저장과 불러오기 함수를 제공한다. h2o.saveModel(), h2o.loadModel()을 사용하는 예제는 다음과 같다."
   ]
  },
  {
   "cell_type": "code",
   "execution_count": 22,
   "metadata": {
    "collapsed": true
   },
   "outputs": [],
   "source": [
    "# save the model to disk\n",
    "absolute_Path_and_fileName_for_the_Model = h2o.saveModel(tmodel_full, path=paste(currentPath,modelPath, sep=\"\"))"
   ]
  },
  {
   "cell_type": "markdown",
   "metadata": {},
   "source": [
    "이번 예제에서는 두번째 생성한 모델을 저장하였다. 이를 다시 불러오려면 \n",
    "1. h2o.loadModel(): 파일에서 로드\n",
    "2. h2o.getModel(): 현재 Running 중인 H2O Framework cluster에서 Import\n",
    "등의 함수를 사용하면 된다. \n",
    "\n",
    "참고로 라이브러리 호출 후 h2o.init() 대신 h2o.connect()를 이용해서 h2o framework server와 연결한 후 h2o.getModel()을 로드해서 사용할 수도 있다.\n",
    "\n",
    "예) h2o.connect(ip = \"111.111.111.111\", port = 54321, context_path = \"tutorials\")"
   ]
  },
  {
   "cell_type": "code",
   "execution_count": 23,
   "metadata": {},
   "outputs": [
    {
     "data": {
      "text/html": [
       "'/EDISON/LDAP/DATA/edisonadm/docs/materials_data_analysis_tutorials/models/DeepLearning_model_R_1513582449475_3'"
      ],
      "text/latex": [
       "'/EDISON/LDAP/DATA/edisonadm/docs/materials\\_data\\_analysis\\_tutorials/models/DeepLearning\\_model\\_R\\_1513582449475\\_3'"
      ],
      "text/markdown": [
       "'/EDISON/LDAP/DATA/edisonadm/docs/materials_data_analysis_tutorials/models/DeepLearning_model_R_1513582449475_3'"
      ],
      "text/plain": [
       "[1] \"/EDISON/LDAP/DATA/edisonadm/docs/materials_data_analysis_tutorials/models/DeepLearning_model_R_1513582449475_3\""
      ]
     },
     "metadata": {},
     "output_type": "display_data"
    }
   ],
   "source": [
    "#check file path and name of the saved model \n",
    "absolute_Path_and_fileName_for_the_Model"
   ]
  },
  {
   "cell_type": "code",
   "execution_count": 24,
   "metadata": {
    "collapsed": true
   },
   "outputs": [],
   "source": [
    "# load the model from disk\n",
    "loaded_tmodel_full = h2o.loadModel(path=absolute_Path_and_fileName_for_the_Model)"
   ]
  },
  {
   "cell_type": "code",
   "execution_count": 25,
   "metadata": {},
   "outputs": [
    {
     "name": "stdout",
     "output_type": "stream",
     "text": [
      "\r",
      "  |                                                                            \r",
      "  |                                                                      |   0%\r",
      "  |                                                                            \r",
      "  |======================================================================| 100%\n"
     ]
    },
    {
     "data": {
      "text/plain": [
       "    predict\n",
       "1 -4.924549\n",
       "2 -4.356402\n",
       "3 -3.592315\n",
       "4 -5.731237\n",
       "5 -6.647010\n",
       "6 -4.087702\n",
       "\n",
       "[24109 rows x 1 column] "
      ]
     },
     "metadata": {},
     "output_type": "display_data"
    },
    {
     "data": {
      "text/plain": [
       "    predict\n",
       "1 -4.924549\n",
       "2 -4.356402\n",
       "3 -3.592315\n",
       "4 -5.731237\n",
       "5 -6.647010\n",
       "6 -4.087702\n",
       "\n",
       "[24109 rows x 1 column] "
      ]
     },
     "metadata": {},
     "output_type": "display_data"
    }
   ],
   "source": [
    "loaded_tpredicted_full = h2o.predict(loaded_tmodel_full, testing_frame_full)\n",
    "tpredicted_full\n",
    "loaded_tpredicted_full"
   ]
  },
  {
   "cell_type": "markdown",
   "metadata": {},
   "source": [
    "이전에 생성한 모델과 동일함을 확인하였으니 불러온 모델에 새로운 입력 값을 만들어 예측해보자. Cr2CoO4 의 Final Energy/Atom을 예측 후 기존 학습과 무관한 Materials Project의 VASP 실험 결과 값[[5]](https://materialsproject.org/materials/mp-24868/)과 비교한다.\n",
    "\n",
    "![fig_comparing_with_mp](./figures/comparing_with_mp.jpg)\n",
    "<center>[참고: Materials Projects 웹 페이지의 Cr2CoO4 Final Energy per atom]</center>"
   ]
  },
  {
   "cell_type": "code",
   "execution_count": 28,
   "metadata": {},
   "outputs": [
    {
     "data": {
      "text/html": [
       "<table>\n",
       "<thead><tr><th scope=col>Ac</th><th scope=col>Ag</th><th scope=col>Al</th><th scope=col>Ar</th><th scope=col>As</th><th scope=col>Au</th><th scope=col>B</th><th scope=col>Ba</th><th scope=col>Be</th><th scope=col>Bi</th><th scope=col>⋯</th><th scope=col>Tl</th><th scope=col>Tm</th><th scope=col>U</th><th scope=col>V</th><th scope=col>W</th><th scope=col>Xe</th><th scope=col>Y</th><th scope=col>Yb</th><th scope=col>Zn</th><th scope=col>Zr</th></tr></thead>\n",
       "<tbody>\n",
       "\t<tr><td>0</td><td>0</td><td>0</td><td>0</td><td>0</td><td>0</td><td>0</td><td>0</td><td>0</td><td>0</td><td>⋯</td><td>0</td><td>0</td><td>0</td><td>0</td><td>0</td><td>0</td><td>0</td><td>0</td><td>0</td><td>0</td></tr>\n",
       "</tbody>\n",
       "</table>\n"
      ],
      "text/latex": [
       "\\begin{tabular}{r|lllllllllllllllllllllllllllllllllllllllllllllllllllllllllllllllllllllllllllllllllllllllll}\n",
       " Ac & Ag & Al & Ar & As & Au & B & Ba & Be & Bi & ⋯ & Tl & Tm & U & V & W & Xe & Y & Yb & Zn & Zr\\\\\n",
       "\\hline\n",
       "\t 0 & 0 & 0 & 0 & 0 & 0 & 0 & 0 & 0 & 0 & ⋯ & 0 & 0 & 0 & 0 & 0 & 0 & 0 & 0 & 0 & 0\\\\\n",
       "\\end{tabular}\n"
      ],
      "text/markdown": [
       "\n",
       "Ac | Ag | Al | Ar | As | Au | B | Ba | Be | Bi | ⋯ | Tl | Tm | U | V | W | Xe | Y | Yb | Zn | Zr | \n",
       "|---|\n",
       "| 0 | 0 | 0 | 0 | 0 | 0 | 0 | 0 | 0 | 0 | ⋯ | 0 | 0 | 0 | 0 | 0 | 0 | 0 | 0 | 0 | 0 | \n",
       "\n",
       "\n"
      ],
      "text/plain": [
       "  Ac Ag Al Ar As Au B Ba Be Bi ⋯ Tl Tm U V W Xe Y Yb Zn Zr\n",
       "1 0  0  0  0  0  0  0 0  0  0  ⋯ 0  0  0 0 0 0  0 0  0  0 "
      ]
     },
     "metadata": {},
     "output_type": "display_data"
    },
    {
     "name": "stdout",
     "output_type": "stream",
     "text": [
      "  |======================================================================| 100%\n",
      "  |======================================================================| 100%\n"
     ]
    },
    {
     "data": {
      "text/plain": [
       "    predict\n",
       "1 -6.794441\n",
       "\n",
       "[1 row x 1 column] "
      ]
     },
     "metadata": {},
     "output_type": "display_data"
    }
   ],
   "source": [
    "fileName = \"zero_field_test.csv\"\n",
    "zero_field = read.csv(paste(dataPath, fileName, sep=\"\"),sep=\",\",header=TRUE)\n",
    "zero_field\n",
    "\n",
    "zero_field$Cr <- 2\n",
    "zero_field$Co <- 1\n",
    "zero_field$O <- 4\n",
    "\n",
    "sample_testing_frame = as.h2o(zero_field)\n",
    "output = h2o.predict(loaded_tmodel_full, sample_testing_frame)\n",
    "output"
   ]
  },
  {
   "cell_type": "markdown",
   "metadata": {},
   "source": [
    "<hr/>\n",
    "###### References\n",
    "[1] Saal, J. E., Kirklin, S., Aykol, M., Meredig, B., and Wolverton, C. \"Materials Design and Discovery with High-Throughput Density Functional Theory: The Open Quantum Materials Database (OQMD)\", JOM 65, 1501-1509 (2013). doi:10.1007/s11837-013-0755-4 [Link](http://dx.doi.org/10.1007/s11837-013-0755-4)\n",
    "\n",
    "  [2] Kirklin, S., Saal, J.E., Meredig, B., Thompson, A., Doak, J.W., Aykol, M., Rühl, S. and Wolverton, C. \"The Open Quantum Materials Database (OQMD): assessing the accuracy of DFT formation energies\", npj Computational Materials 1, 15010 (2015). doi:10.1038/npjcompumats.2015.10 [Link](http://dx.doi.org/10.1038/npjcompumats.2015.10)\n",
    "  \n",
    "  [3] H2O.ai Team, H2O website, 2017. URL (http://h2o.ai)\n",
    "  \n",
    "  [4] H2o.ai Team, H2O R Package Documentation, 2017. URL (http://h2orelease.s3.amazonaws.com/h2o/latest_stable_Rdoc.html)\n",
    "  \n",
    "  [5] Materials Project, web site, URL (https://materialsproject.org/materials/mp-24868/)"
   ]
  }
 ],
 "metadata": {
  "kernelspec": {
   "display_name": "R",
   "language": "R",
   "name": "ir"
  },
  "language_info": {
   "codemirror_mode": "r",
   "file_extension": ".r",
   "mimetype": "text/x-r-source",
   "name": "R",
   "pygments_lexer": "r",
   "version": "3.4.1"
  }
 },
 "nbformat": 4,
 "nbformat_minor": 2
}
